{
 "cells": [
  {
   "cell_type": "code",
   "execution_count": 1,
   "id": "7cc1c0a6",
   "metadata": {
    "execution": {
     "iopub.execute_input": "2022-02-06T06:53:30.042697Z",
     "iopub.status.busy": "2022-02-06T06:53:30.041952Z",
     "iopub.status.idle": "2022-02-06T06:53:31.151324Z",
     "shell.execute_reply": "2022-02-06T06:53:31.150474Z",
     "shell.execute_reply.started": "2022-02-06T05:58:06.327497Z"
    },
    "papermill": {
     "duration": 1.153008,
     "end_time": "2022-02-06T06:53:31.151526",
     "exception": false,
     "start_time": "2022-02-06T06:53:29.998518",
     "status": "completed"
    },
    "tags": []
   },
   "outputs": [],
   "source": [
    "import numpy as np \n",
    "import pandas as pd\n",
    "import seaborn as sns\n",
    "import matplotlib.pyplot as plt\n",
    "\n",
    "import warnings\n",
    "warnings.filterwarnings('ignore')"
   ]
  },
  {
   "cell_type": "code",
   "execution_count": 2,
   "id": "04540a5a",
   "metadata": {
    "_cell_guid": "b1076dfc-b9ad-4769-8c92-a6c4dae69d19",
    "_uuid": "8f2839f25d086af736a60e9eeb907d3b93b6e0e5",
    "execution": {
     "iopub.execute_input": "2022-02-06T06:53:31.257627Z",
     "iopub.status.busy": "2022-02-06T06:53:31.257060Z",
     "iopub.status.idle": "2022-02-06T06:53:31.266915Z",
     "shell.execute_reply": "2022-02-06T06:53:31.267497Z",
     "shell.execute_reply.started": "2022-02-06T05:58:06.779015Z"
    },
    "papermill": {
     "duration": 0.063528,
     "end_time": "2022-02-06T06:53:31.267681",
     "exception": false,
     "start_time": "2022-02-06T06:53:31.204153",
     "status": "completed"
    },
    "tags": []
   },
   "outputs": [
    {
     "name": "stdout",
     "output_type": "stream",
     "text": [
      "/kaggle/input/covid-19-nlp-text-classification/Corona_NLP_test.csv\n",
      "/kaggle/input/covid-19-nlp-text-classification/Corona_NLP_train.csv\n"
     ]
    }
   ],
   "source": [
    "import os\n",
    "for dirname, _, filenames in os.walk('/kaggle/input'):\n",
    "    for filename in filenames:\n",
    "        print(os.path.join(dirname, filename))"
   ]
  },
  {
   "cell_type": "code",
   "execution_count": 3,
   "id": "ad13452d",
   "metadata": {
    "_kg_hide-input": false,
    "execution": {
     "iopub.execute_input": "2022-02-06T06:53:31.337403Z",
     "iopub.status.busy": "2022-02-06T06:53:31.336590Z",
     "iopub.status.idle": "2022-02-06T06:53:39.999478Z",
     "shell.execute_reply": "2022-02-06T06:53:40.000002Z",
     "shell.execute_reply.started": "2022-02-06T05:58:06.790831Z"
    },
    "papermill": {
     "duration": 8.697828,
     "end_time": "2022-02-06T06:53:40.000166",
     "exception": false,
     "start_time": "2022-02-06T06:53:31.302338",
     "status": "completed"
    },
    "tags": []
   },
   "outputs": [
    {
     "name": "stdout",
     "output_type": "stream",
     "text": [
      "Requirement already satisfied: transformers in /opt/conda/lib/python3.7/site-packages (4.12.5)\r\n",
      "Requirement already satisfied: filelock in /opt/conda/lib/python3.7/site-packages (from transformers) (3.3.2)\r\n",
      "Requirement already satisfied: regex!=2019.12.17 in /opt/conda/lib/python3.7/site-packages (from transformers) (2021.11.10)\r\n",
      "Requirement already satisfied: numpy>=1.17 in /opt/conda/lib/python3.7/site-packages (from transformers) (1.20.3)\r\n",
      "Requirement already satisfied: packaging>=20.0 in /opt/conda/lib/python3.7/site-packages (from transformers) (21.3)\r\n",
      "Requirement already satisfied: pyyaml>=5.1 in /opt/conda/lib/python3.7/site-packages (from transformers) (6.0)\r\n",
      "Requirement already satisfied: requests in /opt/conda/lib/python3.7/site-packages (from transformers) (2.26.0)\r\n",
      "Requirement already satisfied: sacremoses in /opt/conda/lib/python3.7/site-packages (from transformers) (0.0.47)\r\n",
      "Requirement already satisfied: tokenizers<0.11,>=0.10.1 in /opt/conda/lib/python3.7/site-packages (from transformers) (0.10.3)\r\n",
      "Requirement already satisfied: importlib-metadata in /opt/conda/lib/python3.7/site-packages (from transformers) (4.10.1)\r\n",
      "Requirement already satisfied: tqdm>=4.27 in /opt/conda/lib/python3.7/site-packages (from transformers) (4.62.3)\r\n",
      "Requirement already satisfied: huggingface-hub<1.0,>=0.1.0 in /opt/conda/lib/python3.7/site-packages (from transformers) (0.1.2)\r\n",
      "Requirement already satisfied: typing-extensions>=3.7.4.3 in /opt/conda/lib/python3.7/site-packages (from huggingface-hub<1.0,>=0.1.0->transformers) (3.10.0.2)\r\n",
      "Requirement already satisfied: pyparsing!=3.0.5,>=2.0.2 in /opt/conda/lib/python3.7/site-packages (from packaging>=20.0->transformers) (3.0.6)\r\n",
      "Requirement already satisfied: zipp>=0.5 in /opt/conda/lib/python3.7/site-packages (from importlib-metadata->transformers) (3.6.0)\r\n",
      "Requirement already satisfied: certifi>=2017.4.17 in /opt/conda/lib/python3.7/site-packages (from requests->transformers) (2021.10.8)\r\n",
      "Requirement already satisfied: charset-normalizer~=2.0.0 in /opt/conda/lib/python3.7/site-packages (from requests->transformers) (2.0.9)\r\n",
      "Requirement already satisfied: idna<4,>=2.5 in /opt/conda/lib/python3.7/site-packages (from requests->transformers) (3.1)\r\n",
      "Requirement already satisfied: urllib3<1.27,>=1.21.1 in /opt/conda/lib/python3.7/site-packages (from requests->transformers) (1.26.7)\r\n",
      "Requirement already satisfied: joblib in /opt/conda/lib/python3.7/site-packages (from sacremoses->transformers) (1.1.0)\r\n",
      "Requirement already satisfied: click in /opt/conda/lib/python3.7/site-packages (from sacremoses->transformers) (8.0.3)\r\n",
      "Requirement already satisfied: six in /opt/conda/lib/python3.7/site-packages (from sacremoses->transformers) (1.16.0)\r\n",
      "\u001b[33mWARNING: Running pip as the 'root' user can result in broken permissions and conflicting behaviour with the system package manager. It is recommended to use a virtual environment instead: https://pip.pypa.io/warnings/venv\u001b[0m\r\n"
     ]
    }
   ],
   "source": [
    "!pip install transformers"
   ]
  },
  {
   "cell_type": "markdown",
   "id": "f9a6de73",
   "metadata": {
    "papermill": {
     "duration": 0.032449,
     "end_time": "2022-02-06T06:53:40.068320",
     "exception": false,
     "start_time": "2022-02-06T06:53:40.035871",
     "status": "completed"
    },
    "tags": []
   },
   "source": [
    "# Dataset"
   ]
  },
  {
   "cell_type": "code",
   "execution_count": 4,
   "id": "dc734d63",
   "metadata": {
    "execution": {
     "iopub.execute_input": "2022-02-06T06:53:40.148495Z",
     "iopub.status.busy": "2022-02-06T06:53:40.147965Z",
     "iopub.status.idle": "2022-02-06T06:53:40.476321Z",
     "shell.execute_reply": "2022-02-06T06:53:40.475445Z",
     "shell.execute_reply.started": "2022-02-06T05:58:14.056462Z"
    },
    "papermill": {
     "duration": 0.372123,
     "end_time": "2022-02-06T06:53:40.476465",
     "exception": false,
     "start_time": "2022-02-06T06:53:40.104342",
     "status": "completed"
    },
    "tags": []
   },
   "outputs": [],
   "source": [
    "train = pd.read_csv('/kaggle/input/covid-19-nlp-text-classification/Corona_NLP_train.csv', encoding = 'latin-1')\n",
    "test = pd.read_csv('/kaggle/input/covid-19-nlp-text-classification/Corona_NLP_test.csv', encoding = 'latin-1')"
   ]
  },
  {
   "cell_type": "code",
   "execution_count": 5,
   "id": "a571b7bd",
   "metadata": {
    "execution": {
     "iopub.execute_input": "2022-02-06T06:53:40.549951Z",
     "iopub.status.busy": "2022-02-06T06:53:40.549381Z",
     "iopub.status.idle": "2022-02-06T06:53:40.562673Z",
     "shell.execute_reply": "2022-02-06T06:53:40.563105Z",
     "shell.execute_reply.started": "2022-02-06T05:58:14.215492Z"
    },
    "papermill": {
     "duration": 0.053473,
     "end_time": "2022-02-06T06:53:40.563238",
     "exception": false,
     "start_time": "2022-02-06T06:53:40.509765",
     "status": "completed"
    },
    "tags": []
   },
   "outputs": [
    {
     "data": {
      "text/html": [
       "<div>\n",
       "<style scoped>\n",
       "    .dataframe tbody tr th:only-of-type {\n",
       "        vertical-align: middle;\n",
       "    }\n",
       "\n",
       "    .dataframe tbody tr th {\n",
       "        vertical-align: top;\n",
       "    }\n",
       "\n",
       "    .dataframe thead th {\n",
       "        text-align: right;\n",
       "    }\n",
       "</style>\n",
       "<table border=\"1\" class=\"dataframe\">\n",
       "  <thead>\n",
       "    <tr style=\"text-align: right;\">\n",
       "      <th></th>\n",
       "      <th>UserName</th>\n",
       "      <th>ScreenName</th>\n",
       "      <th>Location</th>\n",
       "      <th>TweetAt</th>\n",
       "      <th>OriginalTweet</th>\n",
       "      <th>Sentiment</th>\n",
       "    </tr>\n",
       "  </thead>\n",
       "  <tbody>\n",
       "    <tr>\n",
       "      <th>0</th>\n",
       "      <td>3799</td>\n",
       "      <td>48751</td>\n",
       "      <td>London</td>\n",
       "      <td>16-03-2020</td>\n",
       "      <td>@MeNyrbie @Phil_Gahan @Chrisitv https://t.co/i...</td>\n",
       "      <td>Neutral</td>\n",
       "    </tr>\n",
       "    <tr>\n",
       "      <th>1</th>\n",
       "      <td>3800</td>\n",
       "      <td>48752</td>\n",
       "      <td>UK</td>\n",
       "      <td>16-03-2020</td>\n",
       "      <td>advice Talk to your neighbours family to excha...</td>\n",
       "      <td>Positive</td>\n",
       "    </tr>\n",
       "    <tr>\n",
       "      <th>2</th>\n",
       "      <td>3801</td>\n",
       "      <td>48753</td>\n",
       "      <td>Vagabonds</td>\n",
       "      <td>16-03-2020</td>\n",
       "      <td>Coronavirus Australia: Woolworths to give elde...</td>\n",
       "      <td>Positive</td>\n",
       "    </tr>\n",
       "    <tr>\n",
       "      <th>3</th>\n",
       "      <td>3802</td>\n",
       "      <td>48754</td>\n",
       "      <td>NaN</td>\n",
       "      <td>16-03-2020</td>\n",
       "      <td>My food stock is not the only one which is emp...</td>\n",
       "      <td>Positive</td>\n",
       "    </tr>\n",
       "    <tr>\n",
       "      <th>4</th>\n",
       "      <td>3803</td>\n",
       "      <td>48755</td>\n",
       "      <td>NaN</td>\n",
       "      <td>16-03-2020</td>\n",
       "      <td>Me, ready to go at supermarket during the #COV...</td>\n",
       "      <td>Extremely Negative</td>\n",
       "    </tr>\n",
       "  </tbody>\n",
       "</table>\n",
       "</div>"
      ],
      "text/plain": [
       "   UserName  ScreenName   Location     TweetAt  \\\n",
       "0      3799       48751     London  16-03-2020   \n",
       "1      3800       48752         UK  16-03-2020   \n",
       "2      3801       48753  Vagabonds  16-03-2020   \n",
       "3      3802       48754        NaN  16-03-2020   \n",
       "4      3803       48755        NaN  16-03-2020   \n",
       "\n",
       "                                       OriginalTweet           Sentiment  \n",
       "0  @MeNyrbie @Phil_Gahan @Chrisitv https://t.co/i...             Neutral  \n",
       "1  advice Talk to your neighbours family to excha...            Positive  \n",
       "2  Coronavirus Australia: Woolworths to give elde...            Positive  \n",
       "3  My food stock is not the only one which is emp...            Positive  \n",
       "4  Me, ready to go at supermarket during the #COV...  Extremely Negative  "
      ]
     },
     "execution_count": 5,
     "metadata": {},
     "output_type": "execute_result"
    }
   ],
   "source": [
    "train.head()"
   ]
  },
  {
   "cell_type": "code",
   "execution_count": 6,
   "id": "9521ebb6",
   "metadata": {
    "execution": {
     "iopub.execute_input": "2022-02-06T06:53:40.637314Z",
     "iopub.status.busy": "2022-02-06T06:53:40.636767Z",
     "iopub.status.idle": "2022-02-06T06:53:40.641991Z",
     "shell.execute_reply": "2022-02-06T06:53:40.641498Z",
     "shell.execute_reply.started": "2022-02-06T05:58:14.234340Z"
    },
    "papermill": {
     "duration": 0.046201,
     "end_time": "2022-02-06T06:53:40.642100",
     "exception": false,
     "start_time": "2022-02-06T06:53:40.595899",
     "status": "completed"
    },
    "tags": []
   },
   "outputs": [
    {
     "data": {
      "text/html": [
       "<div>\n",
       "<style scoped>\n",
       "    .dataframe tbody tr th:only-of-type {\n",
       "        vertical-align: middle;\n",
       "    }\n",
       "\n",
       "    .dataframe tbody tr th {\n",
       "        vertical-align: top;\n",
       "    }\n",
       "\n",
       "    .dataframe thead th {\n",
       "        text-align: right;\n",
       "    }\n",
       "</style>\n",
       "<table border=\"1\" class=\"dataframe\">\n",
       "  <thead>\n",
       "    <tr style=\"text-align: right;\">\n",
       "      <th></th>\n",
       "      <th>UserName</th>\n",
       "      <th>ScreenName</th>\n",
       "      <th>Location</th>\n",
       "      <th>TweetAt</th>\n",
       "      <th>OriginalTweet</th>\n",
       "      <th>Sentiment</th>\n",
       "    </tr>\n",
       "  </thead>\n",
       "  <tbody>\n",
       "    <tr>\n",
       "      <th>0</th>\n",
       "      <td>1</td>\n",
       "      <td>44953</td>\n",
       "      <td>NYC</td>\n",
       "      <td>02-03-2020</td>\n",
       "      <td>TRENDING: New Yorkers encounter empty supermar...</td>\n",
       "      <td>Extremely Negative</td>\n",
       "    </tr>\n",
       "    <tr>\n",
       "      <th>1</th>\n",
       "      <td>2</td>\n",
       "      <td>44954</td>\n",
       "      <td>Seattle, WA</td>\n",
       "      <td>02-03-2020</td>\n",
       "      <td>When I couldn't find hand sanitizer at Fred Me...</td>\n",
       "      <td>Positive</td>\n",
       "    </tr>\n",
       "    <tr>\n",
       "      <th>2</th>\n",
       "      <td>3</td>\n",
       "      <td>44955</td>\n",
       "      <td>NaN</td>\n",
       "      <td>02-03-2020</td>\n",
       "      <td>Find out how you can protect yourself and love...</td>\n",
       "      <td>Extremely Positive</td>\n",
       "    </tr>\n",
       "    <tr>\n",
       "      <th>3</th>\n",
       "      <td>4</td>\n",
       "      <td>44956</td>\n",
       "      <td>Chicagoland</td>\n",
       "      <td>02-03-2020</td>\n",
       "      <td>#Panic buying hits #NewYork City as anxious sh...</td>\n",
       "      <td>Negative</td>\n",
       "    </tr>\n",
       "    <tr>\n",
       "      <th>4</th>\n",
       "      <td>5</td>\n",
       "      <td>44957</td>\n",
       "      <td>Melbourne, Victoria</td>\n",
       "      <td>03-03-2020</td>\n",
       "      <td>#toiletpaper #dunnypaper #coronavirus #coronav...</td>\n",
       "      <td>Neutral</td>\n",
       "    </tr>\n",
       "  </tbody>\n",
       "</table>\n",
       "</div>"
      ],
      "text/plain": [
       "   UserName  ScreenName             Location     TweetAt  \\\n",
       "0         1       44953                  NYC  02-03-2020   \n",
       "1         2       44954          Seattle, WA  02-03-2020   \n",
       "2         3       44955                  NaN  02-03-2020   \n",
       "3         4       44956          Chicagoland  02-03-2020   \n",
       "4         5       44957  Melbourne, Victoria  03-03-2020   \n",
       "\n",
       "                                       OriginalTweet           Sentiment  \n",
       "0  TRENDING: New Yorkers encounter empty supermar...  Extremely Negative  \n",
       "1  When I couldn't find hand sanitizer at Fred Me...            Positive  \n",
       "2  Find out how you can protect yourself and love...  Extremely Positive  \n",
       "3  #Panic buying hits #NewYork City as anxious sh...            Negative  \n",
       "4  #toiletpaper #dunnypaper #coronavirus #coronav...             Neutral  "
      ]
     },
     "execution_count": 6,
     "metadata": {},
     "output_type": "execute_result"
    }
   ],
   "source": [
    "test.head()"
   ]
  },
  {
   "cell_type": "code",
   "execution_count": 7,
   "id": "7abfc545",
   "metadata": {
    "execution": {
     "iopub.execute_input": "2022-02-06T06:53:40.712655Z",
     "iopub.status.busy": "2022-02-06T06:53:40.712135Z",
     "iopub.status.idle": "2022-02-06T06:53:40.746246Z",
     "shell.execute_reply": "2022-02-06T06:53:40.745781Z",
     "shell.execute_reply.started": "2022-02-06T05:58:14.248710Z"
    },
    "papermill": {
     "duration": 0.070789,
     "end_time": "2022-02-06T06:53:40.746360",
     "exception": false,
     "start_time": "2022-02-06T06:53:40.675571",
     "status": "completed"
    },
    "tags": []
   },
   "outputs": [
    {
     "name": "stdout",
     "output_type": "stream",
     "text": [
      "<class 'pandas.core.frame.DataFrame'>\n",
      "RangeIndex: 41157 entries, 0 to 41156\n",
      "Data columns (total 6 columns):\n",
      " #   Column         Non-Null Count  Dtype \n",
      "---  ------         --------------  ----- \n",
      " 0   UserName       41157 non-null  int64 \n",
      " 1   ScreenName     41157 non-null  int64 \n",
      " 2   Location       32567 non-null  object\n",
      " 3   TweetAt        41157 non-null  object\n",
      " 4   OriginalTweet  41157 non-null  object\n",
      " 5   Sentiment      41157 non-null  object\n",
      "dtypes: int64(2), object(4)\n",
      "memory usage: 1.9+ MB\n"
     ]
    }
   ],
   "source": [
    "train.info()"
   ]
  },
  {
   "cell_type": "markdown",
   "id": "deba1875",
   "metadata": {
    "papermill": {
     "duration": 0.033675,
     "end_time": "2022-02-06T06:53:40.813427",
     "exception": false,
     "start_time": "2022-02-06T06:53:40.779752",
     "status": "completed"
    },
    "tags": []
   },
   "source": [
    "# Mengecek Nilai Null"
   ]
  },
  {
   "cell_type": "code",
   "execution_count": 8,
   "id": "10f9d928",
   "metadata": {
    "execution": {
     "iopub.execute_input": "2022-02-06T06:53:40.901364Z",
     "iopub.status.busy": "2022-02-06T06:53:40.900549Z",
     "iopub.status.idle": "2022-02-06T06:53:40.907397Z",
     "shell.execute_reply": "2022-02-06T06:53:40.908229Z",
     "shell.execute_reply.started": "2022-02-06T05:58:14.278991Z"
    },
    "papermill": {
     "duration": 0.061151,
     "end_time": "2022-02-06T06:53:40.908370",
     "exception": false,
     "start_time": "2022-02-06T06:53:40.847219",
     "status": "completed"
    },
    "tags": []
   },
   "outputs": [
    {
     "data": {
      "text/plain": [
       "UserName            0\n",
       "ScreenName          0\n",
       "Location         8590\n",
       "TweetAt             0\n",
       "OriginalTweet       0\n",
       "Sentiment           0\n",
       "dtype: int64"
      ]
     },
     "execution_count": 8,
     "metadata": {},
     "output_type": "execute_result"
    }
   ],
   "source": [
    "train.isna().sum()"
   ]
  },
  {
   "cell_type": "code",
   "execution_count": 9,
   "id": "774c5a34",
   "metadata": {
    "execution": {
     "iopub.execute_input": "2022-02-06T06:53:40.990020Z",
     "iopub.status.busy": "2022-02-06T06:53:40.984504Z",
     "iopub.status.idle": "2022-02-06T06:53:40.993304Z",
     "shell.execute_reply": "2022-02-06T06:53:40.992904Z",
     "shell.execute_reply.started": "2022-02-06T05:58:14.305996Z"
    },
    "papermill": {
     "duration": 0.051526,
     "end_time": "2022-02-06T06:53:40.993409",
     "exception": false,
     "start_time": "2022-02-06T06:53:40.941883",
     "status": "completed"
    },
    "tags": []
   },
   "outputs": [
    {
     "data": {
      "text/html": [
       "<div>\n",
       "<style scoped>\n",
       "    .dataframe tbody tr th:only-of-type {\n",
       "        vertical-align: middle;\n",
       "    }\n",
       "\n",
       "    .dataframe tbody tr th {\n",
       "        vertical-align: top;\n",
       "    }\n",
       "\n",
       "    .dataframe thead th {\n",
       "        text-align: right;\n",
       "    }\n",
       "</style>\n",
       "<table border=\"1\" class=\"dataframe\">\n",
       "  <thead>\n",
       "    <tr style=\"text-align: right;\">\n",
       "      <th></th>\n",
       "      <th>UserName</th>\n",
       "      <th>ScreenName</th>\n",
       "      <th>Location</th>\n",
       "      <th>TweetAt</th>\n",
       "      <th>OriginalTweet</th>\n",
       "      <th>Sentiment</th>\n",
       "    </tr>\n",
       "  </thead>\n",
       "  <tbody>\n",
       "    <tr>\n",
       "      <th>0</th>\n",
       "      <td>3799</td>\n",
       "      <td>48751</td>\n",
       "      <td>London</td>\n",
       "      <td>16-03-2020</td>\n",
       "      <td>@MeNyrbie @Phil_Gahan @Chrisitv https://t.co/i...</td>\n",
       "      <td>Neutral</td>\n",
       "    </tr>\n",
       "    <tr>\n",
       "      <th>1</th>\n",
       "      <td>3800</td>\n",
       "      <td>48752</td>\n",
       "      <td>UK</td>\n",
       "      <td>16-03-2020</td>\n",
       "      <td>advice Talk to your neighbours family to excha...</td>\n",
       "      <td>Positive</td>\n",
       "    </tr>\n",
       "    <tr>\n",
       "      <th>2</th>\n",
       "      <td>3801</td>\n",
       "      <td>48753</td>\n",
       "      <td>Vagabonds</td>\n",
       "      <td>16-03-2020</td>\n",
       "      <td>Coronavirus Australia: Woolworths to give elde...</td>\n",
       "      <td>Positive</td>\n",
       "    </tr>\n",
       "    <tr>\n",
       "      <th>3</th>\n",
       "      <td>3802</td>\n",
       "      <td>48754</td>\n",
       "      <td>None</td>\n",
       "      <td>16-03-2020</td>\n",
       "      <td>My food stock is not the only one which is emp...</td>\n",
       "      <td>Positive</td>\n",
       "    </tr>\n",
       "    <tr>\n",
       "      <th>4</th>\n",
       "      <td>3803</td>\n",
       "      <td>48755</td>\n",
       "      <td>None</td>\n",
       "      <td>16-03-2020</td>\n",
       "      <td>Me, ready to go at supermarket during the #COV...</td>\n",
       "      <td>Extremely Negative</td>\n",
       "    </tr>\n",
       "  </tbody>\n",
       "</table>\n",
       "</div>"
      ],
      "text/plain": [
       "   UserName  ScreenName   Location     TweetAt  \\\n",
       "0      3799       48751     London  16-03-2020   \n",
       "1      3800       48752         UK  16-03-2020   \n",
       "2      3801       48753  Vagabonds  16-03-2020   \n",
       "3      3802       48754       None  16-03-2020   \n",
       "4      3803       48755       None  16-03-2020   \n",
       "\n",
       "                                       OriginalTweet           Sentiment  \n",
       "0  @MeNyrbie @Phil_Gahan @Chrisitv https://t.co/i...             Neutral  \n",
       "1  advice Talk to your neighbours family to excha...            Positive  \n",
       "2  Coronavirus Australia: Woolworths to give elde...            Positive  \n",
       "3  My food stock is not the only one which is emp...            Positive  \n",
       "4  Me, ready to go at supermarket during the #COV...  Extremely Negative  "
      ]
     },
     "execution_count": 9,
     "metadata": {},
     "output_type": "execute_result"
    }
   ],
   "source": [
    "train['Location'].fillna('None', inplace = True)\n",
    "train.head()"
   ]
  },
  {
   "cell_type": "code",
   "execution_count": 10,
   "id": "ea7ccbcd",
   "metadata": {
    "execution": {
     "iopub.execute_input": "2022-02-06T06:53:41.080413Z",
     "iopub.status.busy": "2022-02-06T06:53:41.079639Z",
     "iopub.status.idle": "2022-02-06T06:53:41.085707Z",
     "shell.execute_reply": "2022-02-06T06:53:41.085301Z",
     "shell.execute_reply.started": "2022-02-06T05:58:14.324543Z"
    },
    "papermill": {
     "duration": 0.058632,
     "end_time": "2022-02-06T06:53:41.085841",
     "exception": false,
     "start_time": "2022-02-06T06:53:41.027209",
     "status": "completed"
    },
    "tags": []
   },
   "outputs": [
    {
     "data": {
      "text/plain": [
       "UserName         0\n",
       "ScreenName       0\n",
       "Location         0\n",
       "TweetAt          0\n",
       "OriginalTweet    0\n",
       "Sentiment        0\n",
       "dtype: int64"
      ]
     },
     "execution_count": 10,
     "metadata": {},
     "output_type": "execute_result"
    }
   ],
   "source": [
    "train.isna().sum()"
   ]
  },
  {
   "cell_type": "markdown",
   "id": "95fdc47d",
   "metadata": {
    "papermill": {
     "duration": 0.034017,
     "end_time": "2022-02-06T06:53:41.154700",
     "exception": false,
     "start_time": "2022-02-06T06:53:41.120683",
     "status": "completed"
    },
    "tags": []
   },
   "source": [
    "# Data Preprocessing"
   ]
  },
  {
   "cell_type": "code",
   "execution_count": 11,
   "id": "7596e5ff",
   "metadata": {
    "execution": {
     "iopub.execute_input": "2022-02-06T06:53:41.229827Z",
     "iopub.status.busy": "2022-02-06T06:53:41.229160Z",
     "iopub.status.idle": "2022-02-06T06:53:41.871582Z",
     "shell.execute_reply": "2022-02-06T06:53:41.872365Z",
     "shell.execute_reply.started": "2022-02-06T05:58:14.351065Z"
    },
    "papermill": {
     "duration": 0.683257,
     "end_time": "2022-02-06T06:53:41.872587",
     "exception": false,
     "start_time": "2022-02-06T06:53:41.189330",
     "status": "completed"
    },
    "tags": []
   },
   "outputs": [
    {
     "name": "stdout",
     "output_type": "stream",
     "text": [
      "[nltk_data] Downloading package stopwords to /usr/share/nltk_data...\n",
      "[nltk_data]   Package stopwords is already up-to-date!\n"
     ]
    }
   ],
   "source": [
    "import re \n",
    "import nltk\n",
    "nltk.download('stopwords')\n",
    "from nltk.corpus import stopwords"
   ]
  },
  {
   "cell_type": "code",
   "execution_count": 12,
   "id": "516cfd87",
   "metadata": {
    "execution": {
     "iopub.execute_input": "2022-02-06T06:53:41.951732Z",
     "iopub.status.busy": "2022-02-06T06:53:41.950916Z",
     "iopub.status.idle": "2022-02-06T06:53:41.955075Z",
     "shell.execute_reply": "2022-02-06T06:53:41.954609Z",
     "shell.execute_reply.started": "2022-02-06T05:58:14.641922Z"
    },
    "papermill": {
     "duration": 0.046264,
     "end_time": "2022-02-06T06:53:41.955194",
     "exception": false,
     "start_time": "2022-02-06T06:53:41.908930",
     "status": "completed"
    },
    "tags": []
   },
   "outputs": [],
   "source": [
    "\", \".join(stopwords.words('english'))\n",
    "stops = set(stopwords.words('english'))\n",
    "\n",
    "def clean_tweet(tweet):\n",
    "    # Remove hyperlinks.\n",
    "    tweet = re.sub(r'https?://\\S+|www\\.\\S+','',tweet)\n",
    "    # Remove html\n",
    "    tweet = re.sub(r'<.*?>','',tweet)\n",
    "    # Remove numbers\n",
    "    tweet = re.sub(r'\\d+','',tweet)\n",
    "    # Remove mentions\n",
    "    tweet = re.sub(r'@\\w+','',tweet)\n",
    "    # Remove punctuation\n",
    "    tweet = re.sub(r'[^\\w\\s\\d]','',tweet)\n",
    "    # Remove whitespace\n",
    "    tweet = re.sub(r'\\s+',' ',tweet).strip()\n",
    "    # Remove stopwords\n",
    "    tweet = \" \".join([word for word in str(tweet).split() if word not in stops])\n",
    "    \n",
    "    return tweet"
   ]
  },
  {
   "cell_type": "code",
   "execution_count": 13,
   "id": "8be4d131",
   "metadata": {
    "execution": {
     "iopub.execute_input": "2022-02-06T06:53:42.032847Z",
     "iopub.status.busy": "2022-02-06T06:53:42.031145Z",
     "iopub.status.idle": "2022-02-06T06:53:42.033446Z",
     "shell.execute_reply": "2022-02-06T06:53:42.033869Z",
     "shell.execute_reply.started": "2022-02-06T05:58:14.653444Z"
    },
    "papermill": {
     "duration": 0.043653,
     "end_time": "2022-02-06T06:53:42.034008",
     "exception": false,
     "start_time": "2022-02-06T06:53:41.990355",
     "status": "completed"
    },
    "tags": []
   },
   "outputs": [],
   "source": [
    "def make_label(sentiment):\n",
    "    \n",
    "    label = ''\n",
    "    if 'Positive' in sentiment: \n",
    "        label = 1\n",
    "    if 'Negative' in sentiment:\n",
    "        label = -1\n",
    "    if 'Neutral' in sentiment:\n",
    "        label = 0\n",
    "    return label"
   ]
  },
  {
   "cell_type": "code",
   "execution_count": 14,
   "id": "42e4f80f",
   "metadata": {
    "execution": {
     "iopub.execute_input": "2022-02-06T06:53:42.111186Z",
     "iopub.status.busy": "2022-02-06T06:53:42.110423Z",
     "iopub.status.idle": "2022-02-06T06:53:44.306304Z",
     "shell.execute_reply": "2022-02-06T06:53:44.305773Z",
     "shell.execute_reply.started": "2022-02-06T05:58:14.665413Z"
    },
    "papermill": {
     "duration": 2.237557,
     "end_time": "2022-02-06T06:53:44.306442",
     "exception": false,
     "start_time": "2022-02-06T06:53:42.068885",
     "status": "completed"
    },
    "tags": []
   },
   "outputs": [],
   "source": [
    "train['cleanTweet'] = train['OriginalTweet'].apply(lambda x: clean_tweet(x))\n",
    "test['cleanTweet'] = test['OriginalTweet'].apply(lambda x: clean_tweet(x))\n",
    "\n",
    "train['Sentiment'] = train['Sentiment'].apply(lambda x: make_label(x))\n",
    "test['Sentiment'] = test['Sentiment'].apply(lambda x: make_label(x))"
   ]
  },
  {
   "cell_type": "code",
   "execution_count": 15,
   "id": "80ec28e2",
   "metadata": {
    "execution": {
     "iopub.execute_input": "2022-02-06T06:53:44.383564Z",
     "iopub.status.busy": "2022-02-06T06:53:44.382994Z",
     "iopub.status.idle": "2022-02-06T06:53:44.388663Z",
     "shell.execute_reply": "2022-02-06T06:53:44.388242Z",
     "shell.execute_reply.started": "2022-02-06T05:58:16.895719Z"
    },
    "papermill": {
     "duration": 0.047147,
     "end_time": "2022-02-06T06:53:44.388772",
     "exception": false,
     "start_time": "2022-02-06T06:53:44.341625",
     "status": "completed"
    },
    "tags": []
   },
   "outputs": [],
   "source": [
    "from sklearn.preprocessing import LabelEncoder\n",
    "\n",
    "# Encode the classes for BERT. We'll keep using the 3 labels we made earlier.  \n",
    "encoder = LabelEncoder()\n",
    "train['label'] = encoder.fit_transform(train['Sentiment'])\n",
    "test['label'] = encoder.fit_transform(test['Sentiment'])"
   ]
  },
  {
   "cell_type": "code",
   "execution_count": 16,
   "id": "3783d6ae",
   "metadata": {
    "execution": {
     "iopub.execute_input": "2022-02-06T06:53:44.469116Z",
     "iopub.status.busy": "2022-02-06T06:53:44.468225Z",
     "iopub.status.idle": "2022-02-06T06:53:44.471269Z",
     "shell.execute_reply": "2022-02-06T06:53:44.471658Z",
     "shell.execute_reply.started": "2022-02-06T05:58:16.906773Z"
    },
    "papermill": {
     "duration": 0.047705,
     "end_time": "2022-02-06T06:53:44.471779",
     "exception": false,
     "start_time": "2022-02-06T06:53:44.424074",
     "status": "completed"
    },
    "tags": []
   },
   "outputs": [
    {
     "data": {
      "text/html": [
       "<div>\n",
       "<style scoped>\n",
       "    .dataframe tbody tr th:only-of-type {\n",
       "        vertical-align: middle;\n",
       "    }\n",
       "\n",
       "    .dataframe tbody tr th {\n",
       "        vertical-align: top;\n",
       "    }\n",
       "\n",
       "    .dataframe thead th {\n",
       "        text-align: right;\n",
       "    }\n",
       "</style>\n",
       "<table border=\"1\" class=\"dataframe\">\n",
       "  <thead>\n",
       "    <tr style=\"text-align: right;\">\n",
       "      <th></th>\n",
       "      <th>UserName</th>\n",
       "      <th>ScreenName</th>\n",
       "      <th>Location</th>\n",
       "      <th>TweetAt</th>\n",
       "      <th>OriginalTweet</th>\n",
       "      <th>Sentiment</th>\n",
       "      <th>cleanTweet</th>\n",
       "      <th>label</th>\n",
       "    </tr>\n",
       "  </thead>\n",
       "  <tbody>\n",
       "    <tr>\n",
       "      <th>0</th>\n",
       "      <td>3799</td>\n",
       "      <td>48751</td>\n",
       "      <td>London</td>\n",
       "      <td>16-03-2020</td>\n",
       "      <td>@MeNyrbie @Phil_Gahan @Chrisitv https://t.co/i...</td>\n",
       "      <td>0</td>\n",
       "      <td></td>\n",
       "      <td>1</td>\n",
       "    </tr>\n",
       "    <tr>\n",
       "      <th>1</th>\n",
       "      <td>3800</td>\n",
       "      <td>48752</td>\n",
       "      <td>UK</td>\n",
       "      <td>16-03-2020</td>\n",
       "      <td>advice Talk to your neighbours family to excha...</td>\n",
       "      <td>1</td>\n",
       "      <td>advice Talk neighbours family exchange phone n...</td>\n",
       "      <td>2</td>\n",
       "    </tr>\n",
       "    <tr>\n",
       "      <th>2</th>\n",
       "      <td>3801</td>\n",
       "      <td>48753</td>\n",
       "      <td>Vagabonds</td>\n",
       "      <td>16-03-2020</td>\n",
       "      <td>Coronavirus Australia: Woolworths to give elde...</td>\n",
       "      <td>1</td>\n",
       "      <td>Coronavirus Australia Woolworths give elderly ...</td>\n",
       "      <td>2</td>\n",
       "    </tr>\n",
       "    <tr>\n",
       "      <th>3</th>\n",
       "      <td>3802</td>\n",
       "      <td>48754</td>\n",
       "      <td>None</td>\n",
       "      <td>16-03-2020</td>\n",
       "      <td>My food stock is not the only one which is emp...</td>\n",
       "      <td>1</td>\n",
       "      <td>My food stock one empty PLEASE dont panic THER...</td>\n",
       "      <td>2</td>\n",
       "    </tr>\n",
       "    <tr>\n",
       "      <th>4</th>\n",
       "      <td>3803</td>\n",
       "      <td>48755</td>\n",
       "      <td>None</td>\n",
       "      <td>16-03-2020</td>\n",
       "      <td>Me, ready to go at supermarket during the #COV...</td>\n",
       "      <td>-1</td>\n",
       "      <td>Me ready go supermarket COVID outbreak Not Im ...</td>\n",
       "      <td>0</td>\n",
       "    </tr>\n",
       "  </tbody>\n",
       "</table>\n",
       "</div>"
      ],
      "text/plain": [
       "   UserName  ScreenName   Location     TweetAt  \\\n",
       "0      3799       48751     London  16-03-2020   \n",
       "1      3800       48752         UK  16-03-2020   \n",
       "2      3801       48753  Vagabonds  16-03-2020   \n",
       "3      3802       48754       None  16-03-2020   \n",
       "4      3803       48755       None  16-03-2020   \n",
       "\n",
       "                                       OriginalTweet  Sentiment  \\\n",
       "0  @MeNyrbie @Phil_Gahan @Chrisitv https://t.co/i...          0   \n",
       "1  advice Talk to your neighbours family to excha...          1   \n",
       "2  Coronavirus Australia: Woolworths to give elde...          1   \n",
       "3  My food stock is not the only one which is emp...          1   \n",
       "4  Me, ready to go at supermarket during the #COV...         -1   \n",
       "\n",
       "                                          cleanTweet  label  \n",
       "0                                                         1  \n",
       "1  advice Talk neighbours family exchange phone n...      2  \n",
       "2  Coronavirus Australia Woolworths give elderly ...      2  \n",
       "3  My food stock one empty PLEASE dont panic THER...      2  \n",
       "4  Me ready go supermarket COVID outbreak Not Im ...      0  "
      ]
     },
     "execution_count": 16,
     "metadata": {},
     "output_type": "execute_result"
    }
   ],
   "source": [
    "train.head()"
   ]
  },
  {
   "cell_type": "markdown",
   "id": "1747eafd",
   "metadata": {
    "papermill": {
     "duration": 0.034603,
     "end_time": "2022-02-06T06:53:44.541455",
     "exception": false,
     "start_time": "2022-02-06T06:53:44.506852",
     "status": "completed"
    },
    "tags": []
   },
   "source": [
    "# BertTokenizer"
   ]
  },
  {
   "cell_type": "code",
   "execution_count": 17,
   "id": "26344b56",
   "metadata": {
    "execution": {
     "iopub.execute_input": "2022-02-06T06:53:44.614747Z",
     "iopub.status.busy": "2022-02-06T06:53:44.614195Z",
     "iopub.status.idle": "2022-02-06T06:53:50.573062Z",
     "shell.execute_reply": "2022-02-06T06:53:50.572551Z",
     "shell.execute_reply.started": "2022-02-06T05:58:16.924224Z"
    },
    "papermill": {
     "duration": 5.996791,
     "end_time": "2022-02-06T06:53:50.573200",
     "exception": false,
     "start_time": "2022-02-06T06:53:44.576409",
     "status": "completed"
    },
    "tags": []
   },
   "outputs": [],
   "source": [
    "import transformers\n",
    "from transformers import BertTokenizer, BertForSequenceClassification"
   ]
  },
  {
   "cell_type": "code",
   "execution_count": 18,
   "id": "b32d58b4",
   "metadata": {
    "execution": {
     "iopub.execute_input": "2022-02-06T06:53:50.650385Z",
     "iopub.status.busy": "2022-02-06T06:53:50.649516Z",
     "iopub.status.idle": "2022-02-06T06:53:55.080938Z",
     "shell.execute_reply": "2022-02-06T06:53:55.081406Z",
     "shell.execute_reply.started": "2022-02-06T05:58:19.172889Z"
    },
    "papermill": {
     "duration": 4.472602,
     "end_time": "2022-02-06T06:53:55.081580",
     "exception": false,
     "start_time": "2022-02-06T06:53:50.608978",
     "status": "completed"
    },
    "tags": []
   },
   "outputs": [
    {
     "data": {
      "application/vnd.jupyter.widget-view+json": {
       "model_id": "ebdf3eece46e4946a43483732f07b518",
       "version_major": 2,
       "version_minor": 0
      },
      "text/plain": [
       "Downloading:   0%|          | 0.00/226k [00:00<?, ?B/s]"
      ]
     },
     "metadata": {},
     "output_type": "display_data"
    },
    {
     "data": {
      "application/vnd.jupyter.widget-view+json": {
       "model_id": "8951c19788e74d11b754330f0978262c",
       "version_major": 2,
       "version_minor": 0
      },
      "text/plain": [
       "Downloading:   0%|          | 0.00/28.0 [00:00<?, ?B/s]"
      ]
     },
     "metadata": {},
     "output_type": "display_data"
    },
    {
     "data": {
      "application/vnd.jupyter.widget-view+json": {
       "model_id": "736df235ab38486f9893cf96be4188fe",
       "version_major": 2,
       "version_minor": 0
      },
      "text/plain": [
       "Downloading:   0%|          | 0.00/455k [00:00<?, ?B/s]"
      ]
     },
     "metadata": {},
     "output_type": "display_data"
    },
    {
     "data": {
      "application/vnd.jupyter.widget-view+json": {
       "model_id": "b638bebaee6642939be8174c0e369a33",
       "version_major": 2,
       "version_minor": 0
      },
      "text/plain": [
       "Downloading:   0%|          | 0.00/570 [00:00<?, ?B/s]"
      ]
     },
     "metadata": {},
     "output_type": "display_data"
    }
   ],
   "source": [
    "bert_tokenizer = transformers.BertTokenizer.from_pretrained('bert-base-uncased', do_lower_case=True)"
   ]
  },
  {
   "cell_type": "code",
   "execution_count": 19,
   "id": "570765a8",
   "metadata": {
    "execution": {
     "iopub.execute_input": "2022-02-06T06:53:55.232171Z",
     "iopub.status.busy": "2022-02-06T06:53:55.206719Z",
     "iopub.status.idle": "2022-02-06T06:54:31.957630Z",
     "shell.execute_reply": "2022-02-06T06:54:31.957153Z",
     "shell.execute_reply.started": "2022-02-06T05:58:19.942480Z"
    },
    "papermill": {
     "duration": 36.837507,
     "end_time": "2022-02-06T06:54:31.957763",
     "exception": false,
     "start_time": "2022-02-06T06:53:55.120256",
     "status": "completed"
    },
    "tags": []
   },
   "outputs": [],
   "source": [
    "train['TokenizeTweet'] = [bert_tokenizer.tokenize(sent) for sent in train.cleanTweet.values]\n",
    "test['TokenizeTweet'] = [bert_tokenizer.tokenize(sent) for sent in test.cleanTweet.values]"
   ]
  },
  {
   "cell_type": "code",
   "execution_count": 20,
   "id": "a8744e78",
   "metadata": {
    "execution": {
     "iopub.execute_input": "2022-02-06T06:54:32.046049Z",
     "iopub.status.busy": "2022-02-06T06:54:32.033900Z",
     "iopub.status.idle": "2022-02-06T06:54:32.048158Z",
     "shell.execute_reply": "2022-02-06T06:54:32.048558Z",
     "shell.execute_reply.started": "2022-02-06T05:58:56.487002Z"
    },
    "papermill": {
     "duration": 0.053633,
     "end_time": "2022-02-06T06:54:32.048684",
     "exception": false,
     "start_time": "2022-02-06T06:54:31.995051",
     "status": "completed"
    },
    "tags": []
   },
   "outputs": [
    {
     "data": {
      "text/html": [
       "<div>\n",
       "<style scoped>\n",
       "    .dataframe tbody tr th:only-of-type {\n",
       "        vertical-align: middle;\n",
       "    }\n",
       "\n",
       "    .dataframe tbody tr th {\n",
       "        vertical-align: top;\n",
       "    }\n",
       "\n",
       "    .dataframe thead th {\n",
       "        text-align: right;\n",
       "    }\n",
       "</style>\n",
       "<table border=\"1\" class=\"dataframe\">\n",
       "  <thead>\n",
       "    <tr style=\"text-align: right;\">\n",
       "      <th></th>\n",
       "      <th>UserName</th>\n",
       "      <th>ScreenName</th>\n",
       "      <th>Location</th>\n",
       "      <th>TweetAt</th>\n",
       "      <th>OriginalTweet</th>\n",
       "      <th>Sentiment</th>\n",
       "      <th>cleanTweet</th>\n",
       "      <th>label</th>\n",
       "      <th>TokenizeTweet</th>\n",
       "    </tr>\n",
       "  </thead>\n",
       "  <tbody>\n",
       "    <tr>\n",
       "      <th>0</th>\n",
       "      <td>3799</td>\n",
       "      <td>48751</td>\n",
       "      <td>London</td>\n",
       "      <td>16-03-2020</td>\n",
       "      <td>@MeNyrbie @Phil_Gahan @Chrisitv https://t.co/i...</td>\n",
       "      <td>0</td>\n",
       "      <td></td>\n",
       "      <td>1</td>\n",
       "      <td>[]</td>\n",
       "    </tr>\n",
       "    <tr>\n",
       "      <th>1</th>\n",
       "      <td>3800</td>\n",
       "      <td>48752</td>\n",
       "      <td>UK</td>\n",
       "      <td>16-03-2020</td>\n",
       "      <td>advice Talk to your neighbours family to excha...</td>\n",
       "      <td>1</td>\n",
       "      <td>advice Talk neighbours family exchange phone n...</td>\n",
       "      <td>2</td>\n",
       "      <td>[advice, talk, neighbours, family, exchange, p...</td>\n",
       "    </tr>\n",
       "    <tr>\n",
       "      <th>2</th>\n",
       "      <td>3801</td>\n",
       "      <td>48753</td>\n",
       "      <td>Vagabonds</td>\n",
       "      <td>16-03-2020</td>\n",
       "      <td>Coronavirus Australia: Woolworths to give elde...</td>\n",
       "      <td>1</td>\n",
       "      <td>Coronavirus Australia Woolworths give elderly ...</td>\n",
       "      <td>2</td>\n",
       "      <td>[corona, ##virus, australia, wool, ##worth, ##...</td>\n",
       "    </tr>\n",
       "    <tr>\n",
       "      <th>3</th>\n",
       "      <td>3802</td>\n",
       "      <td>48754</td>\n",
       "      <td>None</td>\n",
       "      <td>16-03-2020</td>\n",
       "      <td>My food stock is not the only one which is emp...</td>\n",
       "      <td>1</td>\n",
       "      <td>My food stock one empty PLEASE dont panic THER...</td>\n",
       "      <td>2</td>\n",
       "      <td>[my, food, stock, one, empty, please, don, ##t...</td>\n",
       "    </tr>\n",
       "    <tr>\n",
       "      <th>4</th>\n",
       "      <td>3803</td>\n",
       "      <td>48755</td>\n",
       "      <td>None</td>\n",
       "      <td>16-03-2020</td>\n",
       "      <td>Me, ready to go at supermarket during the #COV...</td>\n",
       "      <td>-1</td>\n",
       "      <td>Me ready go supermarket COVID outbreak Not Im ...</td>\n",
       "      <td>0</td>\n",
       "      <td>[me, ready, go, supermarket, co, ##vid, outbre...</td>\n",
       "    </tr>\n",
       "  </tbody>\n",
       "</table>\n",
       "</div>"
      ],
      "text/plain": [
       "   UserName  ScreenName   Location     TweetAt  \\\n",
       "0      3799       48751     London  16-03-2020   \n",
       "1      3800       48752         UK  16-03-2020   \n",
       "2      3801       48753  Vagabonds  16-03-2020   \n",
       "3      3802       48754       None  16-03-2020   \n",
       "4      3803       48755       None  16-03-2020   \n",
       "\n",
       "                                       OriginalTweet  Sentiment  \\\n",
       "0  @MeNyrbie @Phil_Gahan @Chrisitv https://t.co/i...          0   \n",
       "1  advice Talk to your neighbours family to excha...          1   \n",
       "2  Coronavirus Australia: Woolworths to give elde...          1   \n",
       "3  My food stock is not the only one which is emp...          1   \n",
       "4  Me, ready to go at supermarket during the #COV...         -1   \n",
       "\n",
       "                                          cleanTweet  label  \\\n",
       "0                                                         1   \n",
       "1  advice Talk neighbours family exchange phone n...      2   \n",
       "2  Coronavirus Australia Woolworths give elderly ...      2   \n",
       "3  My food stock one empty PLEASE dont panic THER...      2   \n",
       "4  Me ready go supermarket COVID outbreak Not Im ...      0   \n",
       "\n",
       "                                       TokenizeTweet  \n",
       "0                                                 []  \n",
       "1  [advice, talk, neighbours, family, exchange, p...  \n",
       "2  [corona, ##virus, australia, wool, ##worth, ##...  \n",
       "3  [my, food, stock, one, empty, please, don, ##t...  \n",
       "4  [me, ready, go, supermarket, co, ##vid, outbre...  "
      ]
     },
     "execution_count": 20,
     "metadata": {},
     "output_type": "execute_result"
    }
   ],
   "source": [
    "train.head()"
   ]
  },
  {
   "cell_type": "markdown",
   "id": "8f3fd27e",
   "metadata": {
    "papermill": {
     "duration": 0.036723,
     "end_time": "2022-02-06T06:54:32.122111",
     "exception": false,
     "start_time": "2022-02-06T06:54:32.085388",
     "status": "completed"
    },
    "tags": []
   },
   "source": [
    "# Training Validation Split"
   ]
  },
  {
   "cell_type": "code",
   "execution_count": 21,
   "id": "84e33b90",
   "metadata": {
    "execution": {
     "iopub.execute_input": "2022-02-06T06:54:32.202222Z",
     "iopub.status.busy": "2022-02-06T06:54:32.201478Z",
     "iopub.status.idle": "2022-02-06T06:54:32.210448Z",
     "shell.execute_reply": "2022-02-06T06:54:32.210031Z",
     "shell.execute_reply.started": "2022-02-06T05:58:56.502990Z"
    },
    "papermill": {
     "duration": 0.051214,
     "end_time": "2022-02-06T06:54:32.210564",
     "exception": false,
     "start_time": "2022-02-06T06:54:32.159350",
     "status": "completed"
    },
    "tags": []
   },
   "outputs": [],
   "source": [
    "from sklearn.model_selection import train_test_split\n",
    "\n",
    "x_train, x_val, y_train, y_val = train_test_split(train['cleanTweet'], train['label'], test_size = 0.2)"
   ]
  },
  {
   "cell_type": "markdown",
   "id": "0efbd2e4",
   "metadata": {
    "papermill": {
     "duration": 0.036949,
     "end_time": "2022-02-06T06:54:32.284509",
     "exception": false,
     "start_time": "2022-02-06T06:54:32.247560",
     "status": "completed"
    },
    "tags": []
   },
   "source": [
    "# Encoding Data"
   ]
  },
  {
   "cell_type": "code",
   "execution_count": 22,
   "id": "f96b80c1",
   "metadata": {
    "execution": {
     "iopub.execute_input": "2022-02-06T06:54:32.413427Z",
     "iopub.status.busy": "2022-02-06T06:54:32.377513Z",
     "iopub.status.idle": "2022-02-06T06:55:11.433896Z",
     "shell.execute_reply": "2022-02-06T06:55:11.433151Z",
     "shell.execute_reply.started": "2022-02-06T05:58:56.520232Z"
    },
    "papermill": {
     "duration": 39.112229,
     "end_time": "2022-02-06T06:55:11.434092",
     "exception": false,
     "start_time": "2022-02-06T06:54:32.321863",
     "status": "completed"
    },
    "tags": []
   },
   "outputs": [],
   "source": [
    "encoded_data_train = bert_tokenizer.batch_encode_plus(\n",
    "    x_train, \n",
    "    add_special_tokens=True, \n",
    "    return_attention_mask=True, \n",
    "    max_length=120,\n",
    "    padding='max_length', \n",
    "    truncation=True,\n",
    "    return_tensors='pt'\n",
    ")\n",
    "\n",
    "encoded_data_val = bert_tokenizer.batch_encode_plus(\n",
    "    x_val, \n",
    "    add_special_tokens=True, \n",
    "    return_attention_mask=True, \n",
    "    max_length=120,\n",
    "    padding='max_length', \n",
    "    truncation=True,\n",
    "    return_tensors='pt'\n",
    ")"
   ]
  },
  {
   "cell_type": "markdown",
   "id": "84fcab0d",
   "metadata": {
    "papermill": {
     "duration": 0.060228,
     "end_time": "2022-02-06T06:55:11.556422",
     "exception": false,
     "start_time": "2022-02-06T06:55:11.496194",
     "status": "completed"
    },
    "tags": []
   },
   "source": [
    "# Convert Numpy Array Menjadi Tensor"
   ]
  },
  {
   "cell_type": "code",
   "execution_count": 23,
   "id": "f02800c1",
   "metadata": {
    "execution": {
     "iopub.execute_input": "2022-02-06T06:55:11.679023Z",
     "iopub.status.busy": "2022-02-06T06:55:11.677437Z",
     "iopub.status.idle": "2022-02-06T06:55:11.679589Z",
     "shell.execute_reply": "2022-02-06T06:55:11.680018Z",
     "shell.execute_reply.started": "2022-02-06T05:59:34.662179Z"
    },
    "papermill": {
     "duration": 0.062977,
     "end_time": "2022-02-06T06:55:11.680151",
     "exception": false,
     "start_time": "2022-02-06T06:55:11.617174",
     "status": "completed"
    },
    "tags": []
   },
   "outputs": [],
   "source": [
    "import torch\n",
    "from torch.utils.data import TensorDataset"
   ]
  },
  {
   "cell_type": "code",
   "execution_count": 24,
   "id": "b86a5708",
   "metadata": {
    "execution": {
     "iopub.execute_input": "2022-02-06T06:55:11.761654Z",
     "iopub.status.busy": "2022-02-06T06:55:11.760948Z",
     "iopub.status.idle": "2022-02-06T06:55:11.769878Z",
     "shell.execute_reply": "2022-02-06T06:55:11.769436Z",
     "shell.execute_reply.started": "2022-02-06T05:59:34.669369Z"
    },
    "papermill": {
     "duration": 0.052592,
     "end_time": "2022-02-06T06:55:11.770002",
     "exception": false,
     "start_time": "2022-02-06T06:55:11.717410",
     "status": "completed"
    },
    "tags": []
   },
   "outputs": [],
   "source": [
    "train_input_ids = encoded_data_train['input_ids']\n",
    "train_attention_masks = encoded_data_train['attention_mask']\n",
    "train_label = torch.tensor(y_train.values)\n",
    "train_dataset = TensorDataset(train_input_ids, train_attention_masks, train_label)\n",
    "\n",
    "val_input_ids = encoded_data_val['input_ids']\n",
    "val_attention_masks = encoded_data_val['attention_mask']\n",
    "val_label = torch.tensor(y_val.values)\n",
    "val_dataset = TensorDataset(val_input_ids, val_attention_masks, val_label)"
   ]
  },
  {
   "cell_type": "markdown",
   "id": "23034f14",
   "metadata": {
    "papermill": {
     "duration": 0.036729,
     "end_time": "2022-02-06T06:55:11.844079",
     "exception": false,
     "start_time": "2022-02-06T06:55:11.807350",
     "status": "completed"
    },
    "tags": []
   },
   "source": [
    "# Membuat Data Loader"
   ]
  },
  {
   "cell_type": "code",
   "execution_count": 25,
   "id": "5fab2748",
   "metadata": {
    "execution": {
     "iopub.execute_input": "2022-02-06T06:55:11.923973Z",
     "iopub.status.busy": "2022-02-06T06:55:11.923438Z",
     "iopub.status.idle": "2022-02-06T06:55:11.927005Z",
     "shell.execute_reply": "2022-02-06T06:55:11.926575Z",
     "shell.execute_reply.started": "2022-02-06T05:59:34.682991Z"
    },
    "papermill": {
     "duration": 0.045589,
     "end_time": "2022-02-06T06:55:11.927119",
     "exception": false,
     "start_time": "2022-02-06T06:55:11.881530",
     "status": "completed"
    },
    "tags": []
   },
   "outputs": [],
   "source": [
    "from torch.utils.data import DataLoader, RandomSampler, SequentialSampler\n",
    "\n",
    "train_dataloader = DataLoader(train_dataset, sampler=RandomSampler(train_dataset), batch_size=128)\n",
    "val_dataloader = DataLoader(val_dataset, sampler=SequentialSampler(val_dataset), batch_size=128)"
   ]
  },
  {
   "cell_type": "code",
   "execution_count": 26,
   "id": "f7e72f1d",
   "metadata": {
    "execution": {
     "iopub.execute_input": "2022-02-06T06:55:12.004953Z",
     "iopub.status.busy": "2022-02-06T06:55:12.004403Z",
     "iopub.status.idle": "2022-02-06T06:55:12.144804Z",
     "shell.execute_reply": "2022-02-06T06:55:12.144314Z",
     "shell.execute_reply.started": "2022-02-06T05:59:34.691169Z"
    },
    "papermill": {
     "duration": 0.180703,
     "end_time": "2022-02-06T06:55:12.144960",
     "exception": false,
     "start_time": "2022-02-06T06:55:11.964257",
     "status": "completed"
    },
    "tags": []
   },
   "outputs": [],
   "source": [
    "torch.save(val_dataloader,'validation_data_loader')\n",
    "torch.save(train_dataloader,'train_data_loader')"
   ]
  },
  {
   "cell_type": "markdown",
   "id": "5d40a1a5",
   "metadata": {
    "papermill": {
     "duration": 0.037166,
     "end_time": "2022-02-06T06:55:12.220067",
     "exception": false,
     "start_time": "2022-02-06T06:55:12.182901",
     "status": "completed"
    },
    "tags": []
   },
   "source": [
    "# Model (BertForSequenceClassification)"
   ]
  },
  {
   "cell_type": "code",
   "execution_count": 27,
   "id": "c5b04302",
   "metadata": {
    "execution": {
     "iopub.execute_input": "2022-02-06T06:55:12.302565Z",
     "iopub.status.busy": "2022-02-06T06:55:12.302040Z",
     "iopub.status.idle": "2022-02-06T06:55:24.148335Z",
     "shell.execute_reply": "2022-02-06T06:55:24.147878Z",
     "shell.execute_reply.started": "2022-02-06T05:59:34.895737Z"
    },
    "papermill": {
     "duration": 11.891245,
     "end_time": "2022-02-06T06:55:24.148467",
     "exception": false,
     "start_time": "2022-02-06T06:55:12.257222",
     "status": "completed"
    },
    "tags": []
   },
   "outputs": [
    {
     "data": {
      "application/vnd.jupyter.widget-view+json": {
       "model_id": "fff69e54e2b34c1198c00af601eb0c3a",
       "version_major": 2,
       "version_minor": 0
      },
      "text/plain": [
       "Downloading:   0%|          | 0.00/420M [00:00<?, ?B/s]"
      ]
     },
     "metadata": {},
     "output_type": "display_data"
    },
    {
     "name": "stderr",
     "output_type": "stream",
     "text": [
      "Some weights of the model checkpoint at bert-base-uncased were not used when initializing BertForSequenceClassification: ['cls.predictions.bias', 'cls.predictions.decoder.weight', 'cls.seq_relationship.bias', 'cls.predictions.transform.LayerNorm.weight', 'cls.predictions.transform.dense.weight', 'cls.predictions.transform.LayerNorm.bias', 'cls.seq_relationship.weight', 'cls.predictions.transform.dense.bias']\n",
      "- This IS expected if you are initializing BertForSequenceClassification from the checkpoint of a model trained on another task or with another architecture (e.g. initializing a BertForSequenceClassification model from a BertForPreTraining model).\n",
      "- This IS NOT expected if you are initializing BertForSequenceClassification from the checkpoint of a model that you expect to be exactly identical (initializing a BertForSequenceClassification model from a BertForSequenceClassification model).\n",
      "Some weights of BertForSequenceClassification were not initialized from the model checkpoint at bert-base-uncased and are newly initialized: ['classifier.weight', 'classifier.bias']\n",
      "You should probably TRAIN this model on a down-stream task to be able to use it for predictions and inference.\n"
     ]
    }
   ],
   "source": [
    "model = transformers.BertForSequenceClassification.from_pretrained('bert-base-uncased',\n",
    "                                                      num_labels=3,\n",
    "                                                      output_attentions=False,\n",
    "                                                      output_hidden_states=False)"
   ]
  },
  {
   "cell_type": "code",
   "execution_count": 28,
   "id": "29cdaaee",
   "metadata": {
    "execution": {
     "iopub.execute_input": "2022-02-06T06:55:24.233638Z",
     "iopub.status.busy": "2022-02-06T06:55:24.232964Z",
     "iopub.status.idle": "2022-02-06T06:55:24.240550Z",
     "shell.execute_reply": "2022-02-06T06:55:24.240134Z",
     "shell.execute_reply.started": "2022-02-06T05:59:36.494440Z"
    },
    "papermill": {
     "duration": 0.052768,
     "end_time": "2022-02-06T06:55:24.240686",
     "exception": false,
     "start_time": "2022-02-06T06:55:24.187918",
     "status": "completed"
    },
    "tags": []
   },
   "outputs": [],
   "source": [
    "from transformers import AdamW, get_linear_schedule_with_warmup\n",
    "from sklearn.metrics import accuracy_score, classification_report\n",
    "from tqdm import tqdm, trange,tnrange,tqdm_notebook"
   ]
  },
  {
   "cell_type": "code",
   "execution_count": 29,
   "id": "d0ea8ca6",
   "metadata": {
    "execution": {
     "iopub.execute_input": "2022-02-06T06:55:24.329783Z",
     "iopub.status.busy": "2022-02-06T06:55:24.328871Z",
     "iopub.status.idle": "2022-02-06T06:55:24.337061Z",
     "shell.execute_reply": "2022-02-06T06:55:24.337567Z",
     "shell.execute_reply.started": "2022-02-06T05:59:36.505114Z"
    },
    "papermill": {
     "duration": 0.056854,
     "end_time": "2022-02-06T06:55:24.337718",
     "exception": false,
     "start_time": "2022-02-06T06:55:24.280864",
     "status": "completed"
    },
    "tags": []
   },
   "outputs": [],
   "source": [
    "optimizer = AdamW(model.parameters(),lr=3e-5,correct_bias=True)\n",
    "\n",
    "epochs = 5\n",
    "scheduler = get_linear_schedule_with_warmup(optimizer, num_warmup_steps=0, num_training_steps=len(train_dataloader)*epochs)"
   ]
  },
  {
   "cell_type": "code",
   "execution_count": 30,
   "id": "d1f79922",
   "metadata": {
    "execution": {
     "iopub.execute_input": "2022-02-06T06:55:24.428441Z",
     "iopub.status.busy": "2022-02-06T06:55:24.427835Z",
     "iopub.status.idle": "2022-02-06T06:55:24.430943Z",
     "shell.execute_reply": "2022-02-06T06:55:24.430433Z",
     "shell.execute_reply.started": "2022-02-06T05:59:36.521645Z"
    },
    "papermill": {
     "duration": 0.049052,
     "end_time": "2022-02-06T06:55:24.431064",
     "exception": false,
     "start_time": "2022-02-06T06:55:24.382012",
     "status": "completed"
    },
    "tags": []
   },
   "outputs": [],
   "source": [
    "from sklearn.metrics import f1_score\n",
    "\n",
    "#f1 score\n",
    "def f1_score_func(preds, labels):\n",
    "    preds_flat = np.argmax(preds, axis=1).flatten()\n",
    "    labels_flat = labels.flatten()\n",
    "    return f1_score(labels_flat, preds_flat, average = 'weighted')"
   ]
  },
  {
   "cell_type": "code",
   "execution_count": 31,
   "id": "f7959f39",
   "metadata": {
    "execution": {
     "iopub.execute_input": "2022-02-06T06:55:24.518691Z",
     "iopub.status.busy": "2022-02-06T06:55:24.517909Z",
     "iopub.status.idle": "2022-02-06T06:55:24.519950Z",
     "shell.execute_reply": "2022-02-06T06:55:24.520345Z",
     "shell.execute_reply.started": "2022-02-06T05:59:36.530103Z"
    },
    "papermill": {
     "duration": 0.047794,
     "end_time": "2022-02-06T06:55:24.520474",
     "exception": false,
     "start_time": "2022-02-06T06:55:24.472680",
     "status": "completed"
    },
    "tags": []
   },
   "outputs": [],
   "source": [
    "#accuracy score\n",
    "def accuracy_per_class(preds, labels):\n",
    "    label_dict_inverse = {v: k for k, v in label_dict.items()}\n",
    "\n",
    "    preds_flat = np.argmax(preds, axis=1).flatten()\n",
    "    labels_flat = labels.flatten()\n",
    "    \n",
    "    for label in np.unique(labels_flat):\n",
    "        y_preds = preds_flat[labels_flat==label]\n",
    "        y_true = labels_flat[labels_flat==label]\n",
    "        print(f'Class: {label_dict_inverse[label]}')\n",
    "        print(f'Accuracy:{len(y_preds[y_preds==label])}/{len(y_true)}\\n')"
   ]
  },
  {
   "cell_type": "code",
   "execution_count": 32,
   "id": "b9932c47",
   "metadata": {
    "execution": {
     "iopub.execute_input": "2022-02-06T06:55:24.607775Z",
     "iopub.status.busy": "2022-02-06T06:55:24.607005Z",
     "iopub.status.idle": "2022-02-06T06:55:24.608993Z",
     "shell.execute_reply": "2022-02-06T06:55:24.609375Z",
     "shell.execute_reply.started": "2022-02-06T05:59:36.540035Z"
    },
    "papermill": {
     "duration": 0.049335,
     "end_time": "2022-02-06T06:55:24.609502",
     "exception": false,
     "start_time": "2022-02-06T06:55:24.560167",
     "status": "completed"
    },
    "tags": []
   },
   "outputs": [],
   "source": [
    "def evaluate(val_dataloader):\n",
    "\n",
    "    model.eval()\n",
    "\n",
    "    loss_val_total = 0\n",
    "    predictions, true_vals = [], []\n",
    "    \n",
    "    for batch in tqdm(val_dataloader, leave=False, disable=True):\n",
    "\n",
    "        batch = tuple(b.to(device) for b in batch)\n",
    "\n",
    "        inputs = {'input_ids':      batch[0],\n",
    "                  'attention_mask': batch[1],\n",
    "                  'labels':         batch[2]}\n",
    "\n",
    "        with torch.no_grad():        \n",
    "            outputs = model(**inputs)\n",
    "\n",
    "        loss = outputs[0]\n",
    "        logits = outputs[1]\n",
    "        loss_val_total += loss.item()\n",
    "\n",
    "        logits = logits.detach().cpu().numpy()\n",
    "        label_ids = inputs['labels'].cpu().numpy()\n",
    "        predictions.append(logits)\n",
    "        true_vals.append(label_ids)\n",
    "\n",
    "    loss_val_avg = loss_val_total/len(val_dataloader) \n",
    "    \n",
    "    predictions = np.concatenate(predictions, axis=0)\n",
    "    true_vals = np.concatenate(true_vals, axis=0)\n",
    "            \n",
    "    return loss_val_avg, predictions, true_vals"
   ]
  },
  {
   "cell_type": "code",
   "execution_count": 33,
   "id": "a23d8624",
   "metadata": {
    "execution": {
     "iopub.execute_input": "2022-02-06T06:55:24.691547Z",
     "iopub.status.busy": "2022-02-06T06:55:24.690770Z",
     "iopub.status.idle": "2022-02-06T06:55:24.695966Z",
     "shell.execute_reply": "2022-02-06T06:55:24.695514Z",
     "shell.execute_reply.started": "2022-02-06T05:59:36.551916Z"
    },
    "papermill": {
     "duration": 0.04881,
     "end_time": "2022-02-06T06:55:24.696092",
     "exception": false,
     "start_time": "2022-02-06T06:55:24.647282",
     "status": "completed"
    },
    "tags": []
   },
   "outputs": [],
   "source": [
    "import random\n",
    "\n",
    "seed_val = 17\n",
    "random.seed(seed_val)\n",
    "np.random.seed(seed_val)\n",
    "torch.manual_seed(seed_val)\n",
    "torch.cuda.manual_seed_all(seed_val)"
   ]
  },
  {
   "cell_type": "code",
   "execution_count": 34,
   "id": "64ab990c",
   "metadata": {
    "execution": {
     "iopub.execute_input": "2022-02-06T06:55:24.826588Z",
     "iopub.status.busy": "2022-02-06T06:55:24.825918Z",
     "iopub.status.idle": "2022-02-06T06:55:29.661681Z",
     "shell.execute_reply": "2022-02-06T06:55:29.662322Z",
     "shell.execute_reply.started": "2022-02-06T05:59:36.566165Z"
    },
    "papermill": {
     "duration": 4.926455,
     "end_time": "2022-02-06T06:55:29.662543",
     "exception": false,
     "start_time": "2022-02-06T06:55:24.736088",
     "status": "completed"
    },
    "tags": []
   },
   "outputs": [
    {
     "name": "stdout",
     "output_type": "stream",
     "text": [
      "cuda\n"
     ]
    }
   ],
   "source": [
    "device = torch.device('cuda' if torch.cuda.is_available() else 'cpu')\n",
    "model.to(device)\n",
    "print(device)"
   ]
  },
  {
   "cell_type": "markdown",
   "id": "c6138cc1",
   "metadata": {},
   "source": [
    "# Training"
   ]
  },
  {
   "cell_type": "code",
   "execution_count": 35,
   "id": "893be7bf",
   "metadata": {
    "execution": {
     "iopub.execute_input": "2022-02-06T06:55:29.752604Z",
     "iopub.status.busy": "2022-02-06T06:55:29.751777Z",
     "iopub.status.idle": "2022-02-06T07:25:48.064332Z",
     "shell.execute_reply": "2022-02-06T07:25:48.063675Z",
     "shell.execute_reply.started": "2022-02-06T05:59:38.677772Z"
    },
    "papermill": {
     "duration": 1818.361025,
     "end_time": "2022-02-06T07:25:48.064498",
     "exception": false,
     "start_time": "2022-02-06T06:55:29.703473",
     "status": "completed"
    },
    "tags": []
   },
   "outputs": [
    {
     "name": "stderr",
     "output_type": "stream",
     "text": [
      "  0%|          | 0/5 [05:36<?, ?it/s]"
     ]
    },
    {
     "name": "stdout",
     "output_type": "stream",
     "text": [
      "\n",
      "Epoch 1\n",
      "Training loss: 0.6176868488853292\n"
     ]
    },
    {
     "name": "stderr",
     "output_type": "stream",
     "text": [
      " 20%|██        | 1/5 [06:04<24:16, 364.04s/it]"
     ]
    },
    {
     "name": "stdout",
     "output_type": "stream",
     "text": [
      "Validation loss: 0.465267341870528\n",
      "F1 Score (weighted): 0.840756266554831\n"
     ]
    },
    {
     "name": "stderr",
     "output_type": "stream",
     "text": [
      " 20%|██        | 1/5 [11:39<24:16, 364.04s/it]"
     ]
    },
    {
     "name": "stdout",
     "output_type": "stream",
     "text": [
      "\n",
      "Epoch 2\n",
      "Training loss: 0.38041673000006715\n"
     ]
    },
    {
     "name": "stderr",
     "output_type": "stream",
     "text": [
      " 40%|████      | 2/5 [12:07<18:11, 363.68s/it]"
     ]
    },
    {
     "name": "stdout",
     "output_type": "stream",
     "text": [
      "Validation loss: 0.37086758430187516\n",
      "F1 Score (weighted): 0.8744037012638541\n"
     ]
    },
    {
     "name": "stderr",
     "output_type": "stream",
     "text": [
      " 40%|████      | 2/5 [17:43<18:11, 363.68s/it]"
     ]
    },
    {
     "name": "stdout",
     "output_type": "stream",
     "text": [
      "\n",
      "Epoch 3\n",
      "Training loss: 0.2874199994948021\n"
     ]
    },
    {
     "name": "stderr",
     "output_type": "stream",
     "text": [
      " 60%|██████    | 3/5 [18:10<12:07, 363.55s/it]"
     ]
    },
    {
     "name": "stdout",
     "output_type": "stream",
     "text": [
      "Validation loss: 0.35941991874804863\n",
      "F1 Score (weighted): 0.8823120553717461\n"
     ]
    },
    {
     "name": "stderr",
     "output_type": "stream",
     "text": [
      " 60%|██████    | 3/5 [23:46<12:07, 363.55s/it]"
     ]
    },
    {
     "name": "stdout",
     "output_type": "stream",
     "text": [
      "\n",
      "Epoch 4\n",
      "Training loss: 0.23119026532237844\n"
     ]
    },
    {
     "name": "stderr",
     "output_type": "stream",
     "text": [
      " 80%|████████  | 4/5 [24:14<06:03, 363.64s/it]"
     ]
    },
    {
     "name": "stdout",
     "output_type": "stream",
     "text": [
      "Validation loss: 0.381132612320093\n",
      "F1 Score (weighted): 0.880379893431729\n"
     ]
    },
    {
     "name": "stderr",
     "output_type": "stream",
     "text": [
      " 80%|████████  | 4/5 [29:50<06:03, 363.64s/it]"
     ]
    },
    {
     "name": "stdout",
     "output_type": "stream",
     "text": [
      "\n",
      "Epoch 5\n",
      "Training loss: 0.19603099214822747\n"
     ]
    },
    {
     "name": "stderr",
     "output_type": "stream",
     "text": [
      "100%|██████████| 5/5 [30:18<00:00, 363.66s/it]"
     ]
    },
    {
     "name": "stdout",
     "output_type": "stream",
     "text": [
      "Validation loss: 0.38934515233223255\n",
      "F1 Score (weighted): 0.8827556841030362\n"
     ]
    },
    {
     "name": "stderr",
     "output_type": "stream",
     "text": [
      "\n"
     ]
    }
   ],
   "source": [
    "for epoch in tqdm(range(1, epochs+1)):\n",
    "\n",
    "    model.train()\n",
    "\n",
    "    loss_train_total = 0\n",
    "\n",
    "    progress_bar = tqdm(train_dataloader, \n",
    "                        desc='Epoch {:1d}'.format(epoch), \n",
    "                        leave=False, \n",
    "                        disable=True)\n",
    "    \n",
    "    for batch in progress_bar:\n",
    "        model.zero_grad()\n",
    "\n",
    "        batch = tuple(b.to(device) for b in batch)\n",
    "\n",
    "        inputs = {'input_ids': batch[0].to(device),\n",
    "                  'attention_mask': batch[1].to(device),\n",
    "                  'labels': batch[2].to(device)}\n",
    "        \n",
    "        outputs = model(**inputs)\n",
    "        loss = outputs[0]\n",
    "        loss_train_total +=loss.item()\n",
    "\n",
    "        loss.backward()\n",
    "\n",
    "        torch.nn.utils.clip_grad_norm_(model.parameters(), 1.0)\n",
    "\n",
    "        optimizer.step()\n",
    "\n",
    "        scheduler.step()\n",
    "        \n",
    "        progress_bar.set_postfix({'training_loss': '{:.3f}'.format(loss.item()/len(batch))})     \n",
    "        \n",
    "    torch.save(model.state_dict(), f'finetuned_BERT_epoch_{epoch}.model')\n",
    "        \n",
    "    tqdm.write(f'\\nEpoch {epoch}')\n",
    "    \n",
    "    #print training result\n",
    "    loss_train_avg = loss_train_total/len(train_dataloader)\n",
    "    tqdm.write(f'Training loss: {loss_train_avg}')\n",
    "    \n",
    "    #evaluate\n",
    "    val_loss, predictions, true_vals = evaluate(val_dataloader)\n",
    "    #f1 score\n",
    "    val_f1 = f1_score_func(predictions, true_vals)\n",
    "    tqdm.write(f'Validation loss: {val_loss}')\n",
    "    tqdm.write(f'F1 Score (weighted): {val_f1}')"
   ]
  },
  {
   "cell_type": "code",
   "execution_count": 36,
   "id": "523ea4ce",
   "metadata": {
    "execution": {
     "iopub.execute_input": "2022-02-06T07:25:48.266556Z",
     "iopub.status.busy": "2022-02-06T07:25:48.265626Z",
     "iopub.status.idle": "2022-02-06T07:25:48.311490Z",
     "shell.execute_reply": "2022-02-06T07:25:48.312270Z",
     "shell.execute_reply.started": "2022-02-06T06:29:57.142351Z"
    },
    "papermill": {
     "duration": 0.168232,
     "end_time": "2022-02-06T07:25:48.312489",
     "exception": false,
     "start_time": "2022-02-06T07:25:48.144257",
     "status": "completed"
    },
    "tags": []
   },
   "outputs": [],
   "source": [
    "encoded_classes = encoder.classes_\n",
    "predicted_category = [encoded_classes[np.argmax(x)] for x in predictions]\n",
    "true_category = [encoded_classes[x] for x in true_vals]"
   ]
  },
  {
   "cell_type": "code",
   "execution_count": 37,
   "id": "4fc55e3c",
   "metadata": {
    "execution": {
     "iopub.execute_input": "2022-02-06T07:25:48.513993Z",
     "iopub.status.busy": "2022-02-06T07:25:48.513164Z",
     "iopub.status.idle": "2022-02-06T07:25:48.517779Z",
     "shell.execute_reply": "2022-02-06T07:25:48.518616Z",
     "shell.execute_reply.started": "2022-02-06T06:29:57.188435Z"
    },
    "papermill": {
     "duration": 0.108699,
     "end_time": "2022-02-06T07:25:48.518833",
     "exception": false,
     "start_time": "2022-02-06T07:25:48.410134",
     "status": "completed"
    },
    "tags": []
   },
   "outputs": [
    {
     "name": "stdout",
     "output_type": "stream",
     "text": [
      "Accuracy Score =  0.8832604470359572\n"
     ]
    }
   ],
   "source": [
    "x = 0\n",
    "for i in range(len(true_category)):\n",
    "    if true_category[i] == predicted_category[i]:\n",
    "        x += 1\n",
    "        \n",
    "print('Accuracy Score = ', x / len(true_category))"
   ]
  },
  {
   "cell_type": "code",
   "execution_count": 38,
   "id": "e7e431a2",
   "metadata": {
    "execution": {
     "iopub.execute_input": "2022-02-06T07:25:48.730086Z",
     "iopub.status.busy": "2022-02-06T07:25:48.729262Z",
     "iopub.status.idle": "2022-02-06T07:25:48.744944Z",
     "shell.execute_reply": "2022-02-06T07:25:48.745410Z",
     "shell.execute_reply.started": "2022-02-06T06:29:57.201248Z"
    },
    "papermill": {
     "duration": 0.120471,
     "end_time": "2022-02-06T07:25:48.745549",
     "exception": false,
     "start_time": "2022-02-06T07:25:48.625078",
     "status": "completed"
    },
    "tags": []
   },
   "outputs": [
    {
     "name": "stdout",
     "output_type": "stream",
     "text": [
      "              precision    recall  f1-score   support\n",
      "\n",
      "          -1       0.87      0.90      0.88      3069\n",
      "           0       0.89      0.79      0.84      1513\n",
      "           1       0.89      0.91      0.90      3650\n",
      "\n",
      "    accuracy                           0.88      8232\n",
      "   macro avg       0.88      0.87      0.87      8232\n",
      "weighted avg       0.88      0.88      0.88      8232\n",
      "\n"
     ]
    }
   ],
   "source": [
    "print(classification_report(true_category, predicted_category))"
   ]
  },
  {
   "cell_type": "markdown",
   "id": "c32e1138",
   "metadata": {},
   "source": [
    "# Testing"
   ]
  },
  {
   "cell_type": "code",
   "execution_count": 39,
   "id": "64d22fc8",
   "metadata": {
    "execution": {
     "iopub.execute_input": "2022-02-06T07:25:48.933829Z",
     "iopub.status.busy": "2022-02-06T07:25:48.903161Z",
     "iopub.status.idle": "2022-02-06T07:25:52.645931Z",
     "shell.execute_reply": "2022-02-06T07:25:52.645391Z",
     "shell.execute_reply.started": "2022-02-06T06:29:57.231127Z"
    },
    "papermill": {
     "duration": 3.84101,
     "end_time": "2022-02-06T07:25:52.646061",
     "exception": false,
     "start_time": "2022-02-06T07:25:48.805051",
     "status": "completed"
    },
    "tags": []
   },
   "outputs": [],
   "source": [
    "x_test = test['cleanTweet']\n",
    "y_test = test['label']\n",
    "\n",
    "encoded_data_test = bert_tokenizer.batch_encode_plus(\n",
    "    x_test, \n",
    "    add_special_tokens=True, \n",
    "    return_attention_mask=True, \n",
    "    max_length=120,\n",
    "    padding='max_length', \n",
    "    truncation=True,\n",
    "    return_tensors='pt'\n",
    ")\n",
    "\n",
    "test_input_ids = encoded_data_test['input_ids']\n",
    "test_attention_masks = encoded_data_test['attention_mask']\n",
    "test_label = torch.tensor(y_test.values)\n",
    "test_dataset = TensorDataset(test_input_ids, test_attention_masks, test_label)\n",
    "test_dataloader = DataLoader(test_dataset, sampler=SequentialSampler(test_dataset), batch_size=128)"
   ]
  },
  {
   "cell_type": "code",
   "execution_count": 40,
   "id": "5fa9831e",
   "metadata": {
    "execution": {
     "iopub.execute_input": "2022-02-06T07:25:52.770754Z",
     "iopub.status.busy": "2022-02-06T07:25:52.770248Z",
     "iopub.status.idle": "2022-02-06T07:26:05.569657Z",
     "shell.execute_reply": "2022-02-06T07:26:05.570123Z",
     "shell.execute_reply.started": "2022-02-06T06:30:01.136519Z"
    },
    "papermill": {
     "duration": 12.864751,
     "end_time": "2022-02-06T07:26:05.570294",
     "exception": false,
     "start_time": "2022-02-06T07:25:52.705543",
     "status": "completed"
    },
    "tags": []
   },
   "outputs": [],
   "source": [
    "val_loss, predictions, true_vals = evaluate(test_dataloader)\n",
    "val_f1 = f1_score_func(predictions, true_vals)"
   ]
  },
  {
   "cell_type": "code",
   "execution_count": 41,
   "id": "5a1895e4",
   "metadata": {
    "execution": {
     "iopub.execute_input": "2022-02-06T07:26:05.702539Z",
     "iopub.status.busy": "2022-02-06T07:26:05.701310Z",
     "iopub.status.idle": "2022-02-06T07:26:05.727376Z",
     "shell.execute_reply": "2022-02-06T07:26:05.726744Z",
     "shell.execute_reply.started": "2022-02-06T06:30:13.924078Z"
    },
    "papermill": {
     "duration": 0.097649,
     "end_time": "2022-02-06T07:26:05.727525",
     "exception": false,
     "start_time": "2022-02-06T07:26:05.629876",
     "status": "completed"
    },
    "tags": []
   },
   "outputs": [
    {
     "name": "stdout",
     "output_type": "stream",
     "text": [
      "Accuracy Score =  0.865192206424434\n",
      "\n",
      "\n",
      "              precision    recall  f1-score   support\n",
      "\n",
      "          -1       0.86      0.89      0.87      1633\n",
      "           0       0.85      0.77      0.81       619\n",
      "           1       0.88      0.88      0.88      1546\n",
      "\n",
      "    accuracy                           0.87      3798\n",
      "   macro avg       0.86      0.85      0.85      3798\n",
      "weighted avg       0.87      0.87      0.86      3798\n",
      "\n"
     ]
    }
   ],
   "source": [
    "encoded_classes = encoder.classes_\n",
    "predicted_category = [encoded_classes[np.argmax(x)] for x in predictions]\n",
    "true_category = [encoded_classes[x] for x in true_vals]\n",
    "\n",
    "x = 0\n",
    "for i in range(len(true_category)):\n",
    "    if true_category[i] == predicted_category[i]:\n",
    "        x += 1\n",
    "        \n",
    "print('Accuracy Score = ', x / len(true_category))\n",
    "print('\\n')\n",
    "print(classification_report(true_category, predicted_category))"
   ]
  }
 ],
 "metadata": {
  "kernelspec": {
   "display_name": "Python 3",
   "language": "python",
   "name": "python3"
  },
  "language_info": {
   "codemirror_mode": {
    "name": "ipython",
    "version": 3
   },
   "file_extension": ".py",
   "mimetype": "text/x-python",
   "name": "python",
   "nbconvert_exporter": "python",
   "pygments_lexer": "ipython3",
   "version": "3.7.12"
  },
  "papermill": {
   "default_parameters": {},
   "duration": 1967.066056,
   "end_time": "2022-02-06T07:26:09.164744",
   "environment_variables": {},
   "exception": null,
   "input_path": "__notebook__.ipynb",
   "output_path": "__notebook__.ipynb",
   "parameters": {},
   "start_time": "2022-02-06T06:53:22.098688",
   "version": "2.3.3"
  },
  "widgets": {
   "application/vnd.jupyter.widget-state+json": {
    "state": {
     "023270024eae45c282dc3bbfe3274694": {
      "model_module": "@jupyter-widgets/controls",
      "model_module_version": "1.5.0",
      "model_name": "ProgressStyleModel",
      "state": {
       "_model_module": "@jupyter-widgets/controls",
       "_model_module_version": "1.5.0",
       "_model_name": "ProgressStyleModel",
       "_view_count": null,
       "_view_module": "@jupyter-widgets/base",
       "_view_module_version": "1.2.0",
       "_view_name": "StyleView",
       "bar_color": null,
       "description_width": ""
      }
     },
     "04083143963d4bad93b9f8d73e661d0b": {
      "model_module": "@jupyter-widgets/base",
      "model_module_version": "1.2.0",
      "model_name": "LayoutModel",
      "state": {
       "_model_module": "@jupyter-widgets/base",
       "_model_module_version": "1.2.0",
       "_model_name": "LayoutModel",
       "_view_count": null,
       "_view_module": "@jupyter-widgets/base",
       "_view_module_version": "1.2.0",
       "_view_name": "LayoutView",
       "align_content": null,
       "align_items": null,
       "align_self": null,
       "border": null,
       "bottom": null,
       "display": null,
       "flex": null,
       "flex_flow": null,
       "grid_area": null,
       "grid_auto_columns": null,
       "grid_auto_flow": null,
       "grid_auto_rows": null,
       "grid_column": null,
       "grid_gap": null,
       "grid_row": null,
       "grid_template_areas": null,
       "grid_template_columns": null,
       "grid_template_rows": null,
       "height": null,
       "justify_content": null,
       "justify_items": null,
       "left": null,
       "margin": null,
       "max_height": null,
       "max_width": null,
       "min_height": null,
       "min_width": null,
       "object_fit": null,
       "object_position": null,
       "order": null,
       "overflow": null,
       "overflow_x": null,
       "overflow_y": null,
       "padding": null,
       "right": null,
       "top": null,
       "visibility": null,
       "width": null
      }
     },
     "0410856cd7da4b67a1bc4fd639f29416": {
      "model_module": "@jupyter-widgets/controls",
      "model_module_version": "1.5.0",
      "model_name": "HTMLModel",
      "state": {
       "_dom_classes": [],
       "_model_module": "@jupyter-widgets/controls",
       "_model_module_version": "1.5.0",
       "_model_name": "HTMLModel",
       "_view_count": null,
       "_view_module": "@jupyter-widgets/controls",
       "_view_module_version": "1.5.0",
       "_view_name": "HTMLView",
       "description": "",
       "description_tooltip": null,
       "layout": "IPY_MODEL_6e2f054d0942428f8047a81a3366ff3b",
       "placeholder": "​",
       "style": "IPY_MODEL_4c73d59d7ad74021bec468dcba605ab2",
       "value": " 226k/226k [00:00&lt;00:00, 735kB/s]"
      }
     },
     "06c925b1d16f41469b4f91c89bb0af58": {
      "model_module": "@jupyter-widgets/base",
      "model_module_version": "1.2.0",
      "model_name": "LayoutModel",
      "state": {
       "_model_module": "@jupyter-widgets/base",
       "_model_module_version": "1.2.0",
       "_model_name": "LayoutModel",
       "_view_count": null,
       "_view_module": "@jupyter-widgets/base",
       "_view_module_version": "1.2.0",
       "_view_name": "LayoutView",
       "align_content": null,
       "align_items": null,
       "align_self": null,
       "border": null,
       "bottom": null,
       "display": null,
       "flex": null,
       "flex_flow": null,
       "grid_area": null,
       "grid_auto_columns": null,
       "grid_auto_flow": null,
       "grid_auto_rows": null,
       "grid_column": null,
       "grid_gap": null,
       "grid_row": null,
       "grid_template_areas": null,
       "grid_template_columns": null,
       "grid_template_rows": null,
       "height": null,
       "justify_content": null,
       "justify_items": null,
       "left": null,
       "margin": null,
       "max_height": null,
       "max_width": null,
       "min_height": null,
       "min_width": null,
       "object_fit": null,
       "object_position": null,
       "order": null,
       "overflow": null,
       "overflow_x": null,
       "overflow_y": null,
       "padding": null,
       "right": null,
       "top": null,
       "visibility": null,
       "width": null
      }
     },
     "1aa49b6f99f34935b3f1bd43c215c177": {
      "model_module": "@jupyter-widgets/base",
      "model_module_version": "1.2.0",
      "model_name": "LayoutModel",
      "state": {
       "_model_module": "@jupyter-widgets/base",
       "_model_module_version": "1.2.0",
       "_model_name": "LayoutModel",
       "_view_count": null,
       "_view_module": "@jupyter-widgets/base",
       "_view_module_version": "1.2.0",
       "_view_name": "LayoutView",
       "align_content": null,
       "align_items": null,
       "align_self": null,
       "border": null,
       "bottom": null,
       "display": null,
       "flex": null,
       "flex_flow": null,
       "grid_area": null,
       "grid_auto_columns": null,
       "grid_auto_flow": null,
       "grid_auto_rows": null,
       "grid_column": null,
       "grid_gap": null,
       "grid_row": null,
       "grid_template_areas": null,
       "grid_template_columns": null,
       "grid_template_rows": null,
       "height": null,
       "justify_content": null,
       "justify_items": null,
       "left": null,
       "margin": null,
       "max_height": null,
       "max_width": null,
       "min_height": null,
       "min_width": null,
       "object_fit": null,
       "object_position": null,
       "order": null,
       "overflow": null,
       "overflow_x": null,
       "overflow_y": null,
       "padding": null,
       "right": null,
       "top": null,
       "visibility": null,
       "width": null
      }
     },
     "1bcdf2ff57e042e1b043f6633aa9572a": {
      "model_module": "@jupyter-widgets/controls",
      "model_module_version": "1.5.0",
      "model_name": "HTMLModel",
      "state": {
       "_dom_classes": [],
       "_model_module": "@jupyter-widgets/controls",
       "_model_module_version": "1.5.0",
       "_model_name": "HTMLModel",
       "_view_count": null,
       "_view_module": "@jupyter-widgets/controls",
       "_view_module_version": "1.5.0",
       "_view_name": "HTMLView",
       "description": "",
       "description_tooltip": null,
       "layout": "IPY_MODEL_1ea61c71aca840e2adc8a62ade927e13",
       "placeholder": "​",
       "style": "IPY_MODEL_680f10667a584eea8715d41739cf3319",
       "value": "Downloading: 100%"
      }
     },
     "1bd9d65f44584228b33d2665920b41fe": {
      "model_module": "@jupyter-widgets/base",
      "model_module_version": "1.2.0",
      "model_name": "LayoutModel",
      "state": {
       "_model_module": "@jupyter-widgets/base",
       "_model_module_version": "1.2.0",
       "_model_name": "LayoutModel",
       "_view_count": null,
       "_view_module": "@jupyter-widgets/base",
       "_view_module_version": "1.2.0",
       "_view_name": "LayoutView",
       "align_content": null,
       "align_items": null,
       "align_self": null,
       "border": null,
       "bottom": null,
       "display": null,
       "flex": null,
       "flex_flow": null,
       "grid_area": null,
       "grid_auto_columns": null,
       "grid_auto_flow": null,
       "grid_auto_rows": null,
       "grid_column": null,
       "grid_gap": null,
       "grid_row": null,
       "grid_template_areas": null,
       "grid_template_columns": null,
       "grid_template_rows": null,
       "height": null,
       "justify_content": null,
       "justify_items": null,
       "left": null,
       "margin": null,
       "max_height": null,
       "max_width": null,
       "min_height": null,
       "min_width": null,
       "object_fit": null,
       "object_position": null,
       "order": null,
       "overflow": null,
       "overflow_x": null,
       "overflow_y": null,
       "padding": null,
       "right": null,
       "top": null,
       "visibility": null,
       "width": null
      }
     },
     "1ea61c71aca840e2adc8a62ade927e13": {
      "model_module": "@jupyter-widgets/base",
      "model_module_version": "1.2.0",
      "model_name": "LayoutModel",
      "state": {
       "_model_module": "@jupyter-widgets/base",
       "_model_module_version": "1.2.0",
       "_model_name": "LayoutModel",
       "_view_count": null,
       "_view_module": "@jupyter-widgets/base",
       "_view_module_version": "1.2.0",
       "_view_name": "LayoutView",
       "align_content": null,
       "align_items": null,
       "align_self": null,
       "border": null,
       "bottom": null,
       "display": null,
       "flex": null,
       "flex_flow": null,
       "grid_area": null,
       "grid_auto_columns": null,
       "grid_auto_flow": null,
       "grid_auto_rows": null,
       "grid_column": null,
       "grid_gap": null,
       "grid_row": null,
       "grid_template_areas": null,
       "grid_template_columns": null,
       "grid_template_rows": null,
       "height": null,
       "justify_content": null,
       "justify_items": null,
       "left": null,
       "margin": null,
       "max_height": null,
       "max_width": null,
       "min_height": null,
       "min_width": null,
       "object_fit": null,
       "object_position": null,
       "order": null,
       "overflow": null,
       "overflow_x": null,
       "overflow_y": null,
       "padding": null,
       "right": null,
       "top": null,
       "visibility": null,
       "width": null
      }
     },
     "2284fb6d35904882b204c36c60a1c50f": {
      "model_module": "@jupyter-widgets/base",
      "model_module_version": "1.2.0",
      "model_name": "LayoutModel",
      "state": {
       "_model_module": "@jupyter-widgets/base",
       "_model_module_version": "1.2.0",
       "_model_name": "LayoutModel",
       "_view_count": null,
       "_view_module": "@jupyter-widgets/base",
       "_view_module_version": "1.2.0",
       "_view_name": "LayoutView",
       "align_content": null,
       "align_items": null,
       "align_self": null,
       "border": null,
       "bottom": null,
       "display": null,
       "flex": null,
       "flex_flow": null,
       "grid_area": null,
       "grid_auto_columns": null,
       "grid_auto_flow": null,
       "grid_auto_rows": null,
       "grid_column": null,
       "grid_gap": null,
       "grid_row": null,
       "grid_template_areas": null,
       "grid_template_columns": null,
       "grid_template_rows": null,
       "height": null,
       "justify_content": null,
       "justify_items": null,
       "left": null,
       "margin": null,
       "max_height": null,
       "max_width": null,
       "min_height": null,
       "min_width": null,
       "object_fit": null,
       "object_position": null,
       "order": null,
       "overflow": null,
       "overflow_x": null,
       "overflow_y": null,
       "padding": null,
       "right": null,
       "top": null,
       "visibility": null,
       "width": null
      }
     },
     "291a370afdce4684a63a1c70bf5feba1": {
      "model_module": "@jupyter-widgets/base",
      "model_module_version": "1.2.0",
      "model_name": "LayoutModel",
      "state": {
       "_model_module": "@jupyter-widgets/base",
       "_model_module_version": "1.2.0",
       "_model_name": "LayoutModel",
       "_view_count": null,
       "_view_module": "@jupyter-widgets/base",
       "_view_module_version": "1.2.0",
       "_view_name": "LayoutView",
       "align_content": null,
       "align_items": null,
       "align_self": null,
       "border": null,
       "bottom": null,
       "display": null,
       "flex": null,
       "flex_flow": null,
       "grid_area": null,
       "grid_auto_columns": null,
       "grid_auto_flow": null,
       "grid_auto_rows": null,
       "grid_column": null,
       "grid_gap": null,
       "grid_row": null,
       "grid_template_areas": null,
       "grid_template_columns": null,
       "grid_template_rows": null,
       "height": null,
       "justify_content": null,
       "justify_items": null,
       "left": null,
       "margin": null,
       "max_height": null,
       "max_width": null,
       "min_height": null,
       "min_width": null,
       "object_fit": null,
       "object_position": null,
       "order": null,
       "overflow": null,
       "overflow_x": null,
       "overflow_y": null,
       "padding": null,
       "right": null,
       "top": null,
       "visibility": null,
       "width": null
      }
     },
     "2946535b232c47858c85c902a6b85081": {
      "model_module": "@jupyter-widgets/base",
      "model_module_version": "1.2.0",
      "model_name": "LayoutModel",
      "state": {
       "_model_module": "@jupyter-widgets/base",
       "_model_module_version": "1.2.0",
       "_model_name": "LayoutModel",
       "_view_count": null,
       "_view_module": "@jupyter-widgets/base",
       "_view_module_version": "1.2.0",
       "_view_name": "LayoutView",
       "align_content": null,
       "align_items": null,
       "align_self": null,
       "border": null,
       "bottom": null,
       "display": null,
       "flex": null,
       "flex_flow": null,
       "grid_area": null,
       "grid_auto_columns": null,
       "grid_auto_flow": null,
       "grid_auto_rows": null,
       "grid_column": null,
       "grid_gap": null,
       "grid_row": null,
       "grid_template_areas": null,
       "grid_template_columns": null,
       "grid_template_rows": null,
       "height": null,
       "justify_content": null,
       "justify_items": null,
       "left": null,
       "margin": null,
       "max_height": null,
       "max_width": null,
       "min_height": null,
       "min_width": null,
       "object_fit": null,
       "object_position": null,
       "order": null,
       "overflow": null,
       "overflow_x": null,
       "overflow_y": null,
       "padding": null,
       "right": null,
       "top": null,
       "visibility": null,
       "width": null
      }
     },
     "3374c8126bf0434d8e768c82fd726835": {
      "model_module": "@jupyter-widgets/controls",
      "model_module_version": "1.5.0",
      "model_name": "FloatProgressModel",
      "state": {
       "_dom_classes": [],
       "_model_module": "@jupyter-widgets/controls",
       "_model_module_version": "1.5.0",
       "_model_name": "FloatProgressModel",
       "_view_count": null,
       "_view_module": "@jupyter-widgets/controls",
       "_view_module_version": "1.5.0",
       "_view_name": "ProgressView",
       "bar_style": "success",
       "description": "",
       "description_tooltip": null,
       "layout": "IPY_MODEL_b4acd4a64423434d9d5afe41691c42c1",
       "max": 28,
       "min": 0,
       "orientation": "horizontal",
       "style": "IPY_MODEL_b65ce4b5337447d2aa46f95008c1c213",
       "value": 28
      }
     },
     "413f48d6010d41749a7bda7d81a6a7f2": {
      "model_module": "@jupyter-widgets/controls",
      "model_module_version": "1.5.0",
      "model_name": "ProgressStyleModel",
      "state": {
       "_model_module": "@jupyter-widgets/controls",
       "_model_module_version": "1.5.0",
       "_model_name": "ProgressStyleModel",
       "_view_count": null,
       "_view_module": "@jupyter-widgets/base",
       "_view_module_version": "1.2.0",
       "_view_name": "StyleView",
       "bar_color": null,
       "description_width": ""
      }
     },
     "4ae6671c0e0a418caa8ea928d92ab3f5": {
      "model_module": "@jupyter-widgets/controls",
      "model_module_version": "1.5.0",
      "model_name": "ProgressStyleModel",
      "state": {
       "_model_module": "@jupyter-widgets/controls",
       "_model_module_version": "1.5.0",
       "_model_name": "ProgressStyleModel",
       "_view_count": null,
       "_view_module": "@jupyter-widgets/base",
       "_view_module_version": "1.2.0",
       "_view_name": "StyleView",
       "bar_color": null,
       "description_width": ""
      }
     },
     "4c73d59d7ad74021bec468dcba605ab2": {
      "model_module": "@jupyter-widgets/controls",
      "model_module_version": "1.5.0",
      "model_name": "DescriptionStyleModel",
      "state": {
       "_model_module": "@jupyter-widgets/controls",
       "_model_module_version": "1.5.0",
       "_model_name": "DescriptionStyleModel",
       "_view_count": null,
       "_view_module": "@jupyter-widgets/base",
       "_view_module_version": "1.2.0",
       "_view_name": "StyleView",
       "description_width": ""
      }
     },
     "4e58049ab09b498f8c922f91fa6a1870": {
      "model_module": "@jupyter-widgets/controls",
      "model_module_version": "1.5.0",
      "model_name": "FloatProgressModel",
      "state": {
       "_dom_classes": [],
       "_model_module": "@jupyter-widgets/controls",
       "_model_module_version": "1.5.0",
       "_model_name": "FloatProgressModel",
       "_view_count": null,
       "_view_module": "@jupyter-widgets/controls",
       "_view_module_version": "1.5.0",
       "_view_name": "ProgressView",
       "bar_style": "success",
       "description": "",
       "description_tooltip": null,
       "layout": "IPY_MODEL_bd1c87fc0d1f4fbdae24513b967120d8",
       "max": 440473133,
       "min": 0,
       "orientation": "horizontal",
       "style": "IPY_MODEL_023270024eae45c282dc3bbfe3274694",
       "value": 440473133
      }
     },
     "570e63227df547908c2de520797064a2": {
      "model_module": "@jupyter-widgets/controls",
      "model_module_version": "1.5.0",
      "model_name": "HTMLModel",
      "state": {
       "_dom_classes": [],
       "_model_module": "@jupyter-widgets/controls",
       "_model_module_version": "1.5.0",
       "_model_name": "HTMLModel",
       "_view_count": null,
       "_view_module": "@jupyter-widgets/controls",
       "_view_module_version": "1.5.0",
       "_view_name": "HTMLView",
       "description": "",
       "description_tooltip": null,
       "layout": "IPY_MODEL_2284fb6d35904882b204c36c60a1c50f",
       "placeholder": "​",
       "style": "IPY_MODEL_86ef4f0a47d145c9aa9b81b55c1e2976",
       "value": "Downloading: 100%"
      }
     },
     "57b55ca062624fd8a656a119af45669c": {
      "model_module": "@jupyter-widgets/controls",
      "model_module_version": "1.5.0",
      "model_name": "HTMLModel",
      "state": {
       "_dom_classes": [],
       "_model_module": "@jupyter-widgets/controls",
       "_model_module_version": "1.5.0",
       "_model_name": "HTMLModel",
       "_view_count": null,
       "_view_module": "@jupyter-widgets/controls",
       "_view_module_version": "1.5.0",
       "_view_name": "HTMLView",
       "description": "",
       "description_tooltip": null,
       "layout": "IPY_MODEL_6abea07a20384aba9ddfef5ef5a39d2a",
       "placeholder": "​",
       "style": "IPY_MODEL_7a4d1110d5334d1081bc7de2903ccdd2",
       "value": " 420M/420M [00:09&lt;00:00, 27.9MB/s]"
      }
     },
     "680f10667a584eea8715d41739cf3319": {
      "model_module": "@jupyter-widgets/controls",
      "model_module_version": "1.5.0",
      "model_name": "DescriptionStyleModel",
      "state": {
       "_model_module": "@jupyter-widgets/controls",
       "_model_module_version": "1.5.0",
       "_model_name": "DescriptionStyleModel",
       "_view_count": null,
       "_view_module": "@jupyter-widgets/base",
       "_view_module_version": "1.2.0",
       "_view_name": "StyleView",
       "description_width": ""
      }
     },
     "6abea07a20384aba9ddfef5ef5a39d2a": {
      "model_module": "@jupyter-widgets/base",
      "model_module_version": "1.2.0",
      "model_name": "LayoutModel",
      "state": {
       "_model_module": "@jupyter-widgets/base",
       "_model_module_version": "1.2.0",
       "_model_name": "LayoutModel",
       "_view_count": null,
       "_view_module": "@jupyter-widgets/base",
       "_view_module_version": "1.2.0",
       "_view_name": "LayoutView",
       "align_content": null,
       "align_items": null,
       "align_self": null,
       "border": null,
       "bottom": null,
       "display": null,
       "flex": null,
       "flex_flow": null,
       "grid_area": null,
       "grid_auto_columns": null,
       "grid_auto_flow": null,
       "grid_auto_rows": null,
       "grid_column": null,
       "grid_gap": null,
       "grid_row": null,
       "grid_template_areas": null,
       "grid_template_columns": null,
       "grid_template_rows": null,
       "height": null,
       "justify_content": null,
       "justify_items": null,
       "left": null,
       "margin": null,
       "max_height": null,
       "max_width": null,
       "min_height": null,
       "min_width": null,
       "object_fit": null,
       "object_position": null,
       "order": null,
       "overflow": null,
       "overflow_x": null,
       "overflow_y": null,
       "padding": null,
       "right": null,
       "top": null,
       "visibility": null,
       "width": null
      }
     },
     "6e2f054d0942428f8047a81a3366ff3b": {
      "model_module": "@jupyter-widgets/base",
      "model_module_version": "1.2.0",
      "model_name": "LayoutModel",
      "state": {
       "_model_module": "@jupyter-widgets/base",
       "_model_module_version": "1.2.0",
       "_model_name": "LayoutModel",
       "_view_count": null,
       "_view_module": "@jupyter-widgets/base",
       "_view_module_version": "1.2.0",
       "_view_name": "LayoutView",
       "align_content": null,
       "align_items": null,
       "align_self": null,
       "border": null,
       "bottom": null,
       "display": null,
       "flex": null,
       "flex_flow": null,
       "grid_area": null,
       "grid_auto_columns": null,
       "grid_auto_flow": null,
       "grid_auto_rows": null,
       "grid_column": null,
       "grid_gap": null,
       "grid_row": null,
       "grid_template_areas": null,
       "grid_template_columns": null,
       "grid_template_rows": null,
       "height": null,
       "justify_content": null,
       "justify_items": null,
       "left": null,
       "margin": null,
       "max_height": null,
       "max_width": null,
       "min_height": null,
       "min_width": null,
       "object_fit": null,
       "object_position": null,
       "order": null,
       "overflow": null,
       "overflow_x": null,
       "overflow_y": null,
       "padding": null,
       "right": null,
       "top": null,
       "visibility": null,
       "width": null
      }
     },
     "71ef7658351049adb9efaadc5352ecad": {
      "model_module": "@jupyter-widgets/controls",
      "model_module_version": "1.5.0",
      "model_name": "DescriptionStyleModel",
      "state": {
       "_model_module": "@jupyter-widgets/controls",
       "_model_module_version": "1.5.0",
       "_model_name": "DescriptionStyleModel",
       "_view_count": null,
       "_view_module": "@jupyter-widgets/base",
       "_view_module_version": "1.2.0",
       "_view_name": "StyleView",
       "description_width": ""
      }
     },
     "736df235ab38486f9893cf96be4188fe": {
      "model_module": "@jupyter-widgets/controls",
      "model_module_version": "1.5.0",
      "model_name": "HBoxModel",
      "state": {
       "_dom_classes": [],
       "_model_module": "@jupyter-widgets/controls",
       "_model_module_version": "1.5.0",
       "_model_name": "HBoxModel",
       "_view_count": null,
       "_view_module": "@jupyter-widgets/controls",
       "_view_module_version": "1.5.0",
       "_view_name": "HBoxView",
       "box_style": "",
       "children": [
        "IPY_MODEL_1bcdf2ff57e042e1b043f6633aa9572a",
        "IPY_MODEL_be2c86a0d40e49c3a790369154c7d59c",
        "IPY_MODEL_ff8aa7e4ba7747cb88b8810092029a86"
       ],
       "layout": "IPY_MODEL_ff903cd28d6c4394954a16e8be362dd5"
      }
     },
     "7a4d1110d5334d1081bc7de2903ccdd2": {
      "model_module": "@jupyter-widgets/controls",
      "model_module_version": "1.5.0",
      "model_name": "DescriptionStyleModel",
      "state": {
       "_model_module": "@jupyter-widgets/controls",
       "_model_module_version": "1.5.0",
       "_model_name": "DescriptionStyleModel",
       "_view_count": null,
       "_view_module": "@jupyter-widgets/base",
       "_view_module_version": "1.2.0",
       "_view_name": "StyleView",
       "description_width": ""
      }
     },
     "80eec79cc90c406fa980698751d4cf17": {
      "model_module": "@jupyter-widgets/base",
      "model_module_version": "1.2.0",
      "model_name": "LayoutModel",
      "state": {
       "_model_module": "@jupyter-widgets/base",
       "_model_module_version": "1.2.0",
       "_model_name": "LayoutModel",
       "_view_count": null,
       "_view_module": "@jupyter-widgets/base",
       "_view_module_version": "1.2.0",
       "_view_name": "LayoutView",
       "align_content": null,
       "align_items": null,
       "align_self": null,
       "border": null,
       "bottom": null,
       "display": null,
       "flex": null,
       "flex_flow": null,
       "grid_area": null,
       "grid_auto_columns": null,
       "grid_auto_flow": null,
       "grid_auto_rows": null,
       "grid_column": null,
       "grid_gap": null,
       "grid_row": null,
       "grid_template_areas": null,
       "grid_template_columns": null,
       "grid_template_rows": null,
       "height": null,
       "justify_content": null,
       "justify_items": null,
       "left": null,
       "margin": null,
       "max_height": null,
       "max_width": null,
       "min_height": null,
       "min_width": null,
       "object_fit": null,
       "object_position": null,
       "order": null,
       "overflow": null,
       "overflow_x": null,
       "overflow_y": null,
       "padding": null,
       "right": null,
       "top": null,
       "visibility": null,
       "width": null
      }
     },
     "848c869f0a3a4ff6b011bcf3912486d5": {
      "model_module": "@jupyter-widgets/controls",
      "model_module_version": "1.5.0",
      "model_name": "HTMLModel",
      "state": {
       "_dom_classes": [],
       "_model_module": "@jupyter-widgets/controls",
       "_model_module_version": "1.5.0",
       "_model_name": "HTMLModel",
       "_view_count": null,
       "_view_module": "@jupyter-widgets/controls",
       "_view_module_version": "1.5.0",
       "_view_name": "HTMLView",
       "description": "",
       "description_tooltip": null,
       "layout": "IPY_MODEL_9b5eae9348e2456eb3222bf4c3d162f5",
       "placeholder": "​",
       "style": "IPY_MODEL_885e52ba57b24f0996786f4bf2e56897",
       "value": "Downloading: 100%"
      }
     },
     "86ef4f0a47d145c9aa9b81b55c1e2976": {
      "model_module": "@jupyter-widgets/controls",
      "model_module_version": "1.5.0",
      "model_name": "DescriptionStyleModel",
      "state": {
       "_model_module": "@jupyter-widgets/controls",
       "_model_module_version": "1.5.0",
       "_model_name": "DescriptionStyleModel",
       "_view_count": null,
       "_view_module": "@jupyter-widgets/base",
       "_view_module_version": "1.2.0",
       "_view_name": "StyleView",
       "description_width": ""
      }
     },
     "883002264ebd4611afdd4103ae8f2407": {
      "model_module": "@jupyter-widgets/controls",
      "model_module_version": "1.5.0",
      "model_name": "DescriptionStyleModel",
      "state": {
       "_model_module": "@jupyter-widgets/controls",
       "_model_module_version": "1.5.0",
       "_model_name": "DescriptionStyleModel",
       "_view_count": null,
       "_view_module": "@jupyter-widgets/base",
       "_view_module_version": "1.2.0",
       "_view_name": "StyleView",
       "description_width": ""
      }
     },
     "885e52ba57b24f0996786f4bf2e56897": {
      "model_module": "@jupyter-widgets/controls",
      "model_module_version": "1.5.0",
      "model_name": "DescriptionStyleModel",
      "state": {
       "_model_module": "@jupyter-widgets/controls",
       "_model_module_version": "1.5.0",
       "_model_name": "DescriptionStyleModel",
       "_view_count": null,
       "_view_module": "@jupyter-widgets/base",
       "_view_module_version": "1.2.0",
       "_view_name": "StyleView",
       "description_width": ""
      }
     },
     "8951c19788e74d11b754330f0978262c": {
      "model_module": "@jupyter-widgets/controls",
      "model_module_version": "1.5.0",
      "model_name": "HBoxModel",
      "state": {
       "_dom_classes": [],
       "_model_module": "@jupyter-widgets/controls",
       "_model_module_version": "1.5.0",
       "_model_name": "HBoxModel",
       "_view_count": null,
       "_view_module": "@jupyter-widgets/controls",
       "_view_module_version": "1.5.0",
       "_view_name": "HBoxView",
       "box_style": "",
       "children": [
        "IPY_MODEL_c2c36bddc12c410fa7bed1ed1f4d8db5",
        "IPY_MODEL_3374c8126bf0434d8e768c82fd726835",
        "IPY_MODEL_d472044d11af48efa87c6d19fda83521"
       ],
       "layout": "IPY_MODEL_1bd9d65f44584228b33d2665920b41fe"
      }
     },
     "8e4ff8893c3c42e89f0dd54e0cd9eb68": {
      "model_module": "@jupyter-widgets/controls",
      "model_module_version": "1.5.0",
      "model_name": "HTMLModel",
      "state": {
       "_dom_classes": [],
       "_model_module": "@jupyter-widgets/controls",
       "_model_module_version": "1.5.0",
       "_model_name": "HTMLModel",
       "_view_count": null,
       "_view_module": "@jupyter-widgets/controls",
       "_view_module_version": "1.5.0",
       "_view_name": "HTMLView",
       "description": "",
       "description_tooltip": null,
       "layout": "IPY_MODEL_1aa49b6f99f34935b3f1bd43c215c177",
       "placeholder": "​",
       "style": "IPY_MODEL_883002264ebd4611afdd4103ae8f2407",
       "value": " 570/570 [00:00&lt;00:00, 20.4kB/s]"
      }
     },
     "9b5eae9348e2456eb3222bf4c3d162f5": {
      "model_module": "@jupyter-widgets/base",
      "model_module_version": "1.2.0",
      "model_name": "LayoutModel",
      "state": {
       "_model_module": "@jupyter-widgets/base",
       "_model_module_version": "1.2.0",
       "_model_name": "LayoutModel",
       "_view_count": null,
       "_view_module": "@jupyter-widgets/base",
       "_view_module_version": "1.2.0",
       "_view_name": "LayoutView",
       "align_content": null,
       "align_items": null,
       "align_self": null,
       "border": null,
       "bottom": null,
       "display": null,
       "flex": null,
       "flex_flow": null,
       "grid_area": null,
       "grid_auto_columns": null,
       "grid_auto_flow": null,
       "grid_auto_rows": null,
       "grid_column": null,
       "grid_gap": null,
       "grid_row": null,
       "grid_template_areas": null,
       "grid_template_columns": null,
       "grid_template_rows": null,
       "height": null,
       "justify_content": null,
       "justify_items": null,
       "left": null,
       "margin": null,
       "max_height": null,
       "max_width": null,
       "min_height": null,
       "min_width": null,
       "object_fit": null,
       "object_position": null,
       "order": null,
       "overflow": null,
       "overflow_x": null,
       "overflow_y": null,
       "padding": null,
       "right": null,
       "top": null,
       "visibility": null,
       "width": null
      }
     },
     "b152aa5d4f334501b54dc5814df051a8": {
      "model_module": "@jupyter-widgets/base",
      "model_module_version": "1.2.0",
      "model_name": "LayoutModel",
      "state": {
       "_model_module": "@jupyter-widgets/base",
       "_model_module_version": "1.2.0",
       "_model_name": "LayoutModel",
       "_view_count": null,
       "_view_module": "@jupyter-widgets/base",
       "_view_module_version": "1.2.0",
       "_view_name": "LayoutView",
       "align_content": null,
       "align_items": null,
       "align_self": null,
       "border": null,
       "bottom": null,
       "display": null,
       "flex": null,
       "flex_flow": null,
       "grid_area": null,
       "grid_auto_columns": null,
       "grid_auto_flow": null,
       "grid_auto_rows": null,
       "grid_column": null,
       "grid_gap": null,
       "grid_row": null,
       "grid_template_areas": null,
       "grid_template_columns": null,
       "grid_template_rows": null,
       "height": null,
       "justify_content": null,
       "justify_items": null,
       "left": null,
       "margin": null,
       "max_height": null,
       "max_width": null,
       "min_height": null,
       "min_width": null,
       "object_fit": null,
       "object_position": null,
       "order": null,
       "overflow": null,
       "overflow_x": null,
       "overflow_y": null,
       "padding": null,
       "right": null,
       "top": null,
       "visibility": null,
       "width": null
      }
     },
     "b4acd4a64423434d9d5afe41691c42c1": {
      "model_module": "@jupyter-widgets/base",
      "model_module_version": "1.2.0",
      "model_name": "LayoutModel",
      "state": {
       "_model_module": "@jupyter-widgets/base",
       "_model_module_version": "1.2.0",
       "_model_name": "LayoutModel",
       "_view_count": null,
       "_view_module": "@jupyter-widgets/base",
       "_view_module_version": "1.2.0",
       "_view_name": "LayoutView",
       "align_content": null,
       "align_items": null,
       "align_self": null,
       "border": null,
       "bottom": null,
       "display": null,
       "flex": null,
       "flex_flow": null,
       "grid_area": null,
       "grid_auto_columns": null,
       "grid_auto_flow": null,
       "grid_auto_rows": null,
       "grid_column": null,
       "grid_gap": null,
       "grid_row": null,
       "grid_template_areas": null,
       "grid_template_columns": null,
       "grid_template_rows": null,
       "height": null,
       "justify_content": null,
       "justify_items": null,
       "left": null,
       "margin": null,
       "max_height": null,
       "max_width": null,
       "min_height": null,
       "min_width": null,
       "object_fit": null,
       "object_position": null,
       "order": null,
       "overflow": null,
       "overflow_x": null,
       "overflow_y": null,
       "padding": null,
       "right": null,
       "top": null,
       "visibility": null,
       "width": null
      }
     },
     "b638bebaee6642939be8174c0e369a33": {
      "model_module": "@jupyter-widgets/controls",
      "model_module_version": "1.5.0",
      "model_name": "HBoxModel",
      "state": {
       "_dom_classes": [],
       "_model_module": "@jupyter-widgets/controls",
       "_model_module_version": "1.5.0",
       "_model_name": "HBoxModel",
       "_view_count": null,
       "_view_module": "@jupyter-widgets/controls",
       "_view_module_version": "1.5.0",
       "_view_name": "HBoxView",
       "box_style": "",
       "children": [
        "IPY_MODEL_848c869f0a3a4ff6b011bcf3912486d5",
        "IPY_MODEL_cf67271de39d4958979a7c147d0f989d",
        "IPY_MODEL_8e4ff8893c3c42e89f0dd54e0cd9eb68"
       ],
       "layout": "IPY_MODEL_291a370afdce4684a63a1c70bf5feba1"
      }
     },
     "b65ce4b5337447d2aa46f95008c1c213": {
      "model_module": "@jupyter-widgets/controls",
      "model_module_version": "1.5.0",
      "model_name": "ProgressStyleModel",
      "state": {
       "_model_module": "@jupyter-widgets/controls",
       "_model_module_version": "1.5.0",
       "_model_name": "ProgressStyleModel",
       "_view_count": null,
       "_view_module": "@jupyter-widgets/base",
       "_view_module_version": "1.2.0",
       "_view_name": "StyleView",
       "bar_color": null,
       "description_width": ""
      }
     },
     "bd1c87fc0d1f4fbdae24513b967120d8": {
      "model_module": "@jupyter-widgets/base",
      "model_module_version": "1.2.0",
      "model_name": "LayoutModel",
      "state": {
       "_model_module": "@jupyter-widgets/base",
       "_model_module_version": "1.2.0",
       "_model_name": "LayoutModel",
       "_view_count": null,
       "_view_module": "@jupyter-widgets/base",
       "_view_module_version": "1.2.0",
       "_view_name": "LayoutView",
       "align_content": null,
       "align_items": null,
       "align_self": null,
       "border": null,
       "bottom": null,
       "display": null,
       "flex": null,
       "flex_flow": null,
       "grid_area": null,
       "grid_auto_columns": null,
       "grid_auto_flow": null,
       "grid_auto_rows": null,
       "grid_column": null,
       "grid_gap": null,
       "grid_row": null,
       "grid_template_areas": null,
       "grid_template_columns": null,
       "grid_template_rows": null,
       "height": null,
       "justify_content": null,
       "justify_items": null,
       "left": null,
       "margin": null,
       "max_height": null,
       "max_width": null,
       "min_height": null,
       "min_width": null,
       "object_fit": null,
       "object_position": null,
       "order": null,
       "overflow": null,
       "overflow_x": null,
       "overflow_y": null,
       "padding": null,
       "right": null,
       "top": null,
       "visibility": null,
       "width": null
      }
     },
     "be2c86a0d40e49c3a790369154c7d59c": {
      "model_module": "@jupyter-widgets/controls",
      "model_module_version": "1.5.0",
      "model_name": "FloatProgressModel",
      "state": {
       "_dom_classes": [],
       "_model_module": "@jupyter-widgets/controls",
       "_model_module_version": "1.5.0",
       "_model_name": "FloatProgressModel",
       "_view_count": null,
       "_view_module": "@jupyter-widgets/controls",
       "_view_module_version": "1.5.0",
       "_view_name": "ProgressView",
       "bar_style": "success",
       "description": "",
       "description_tooltip": null,
       "layout": "IPY_MODEL_fbc8d9ef566c4fddb51627c05e44ced3",
       "max": 466062,
       "min": 0,
       "orientation": "horizontal",
       "style": "IPY_MODEL_4ae6671c0e0a418caa8ea928d92ab3f5",
       "value": 466062
      }
     },
     "bfe23f64849d4326b3eca39b777507a1": {
      "model_module": "@jupyter-widgets/base",
      "model_module_version": "1.2.0",
      "model_name": "LayoutModel",
      "state": {
       "_model_module": "@jupyter-widgets/base",
       "_model_module_version": "1.2.0",
       "_model_name": "LayoutModel",
       "_view_count": null,
       "_view_module": "@jupyter-widgets/base",
       "_view_module_version": "1.2.0",
       "_view_name": "LayoutView",
       "align_content": null,
       "align_items": null,
       "align_self": null,
       "border": null,
       "bottom": null,
       "display": null,
       "flex": null,
       "flex_flow": null,
       "grid_area": null,
       "grid_auto_columns": null,
       "grid_auto_flow": null,
       "grid_auto_rows": null,
       "grid_column": null,
       "grid_gap": null,
       "grid_row": null,
       "grid_template_areas": null,
       "grid_template_columns": null,
       "grid_template_rows": null,
       "height": null,
       "justify_content": null,
       "justify_items": null,
       "left": null,
       "margin": null,
       "max_height": null,
       "max_width": null,
       "min_height": null,
       "min_width": null,
       "object_fit": null,
       "object_position": null,
       "order": null,
       "overflow": null,
       "overflow_x": null,
       "overflow_y": null,
       "padding": null,
       "right": null,
       "top": null,
       "visibility": null,
       "width": null
      }
     },
     "c0d34e7ff59c41758c952c6d4fc3988f": {
      "model_module": "@jupyter-widgets/controls",
      "model_module_version": "1.5.0",
      "model_name": "DescriptionStyleModel",
      "state": {
       "_model_module": "@jupyter-widgets/controls",
       "_model_module_version": "1.5.0",
       "_model_name": "DescriptionStyleModel",
       "_view_count": null,
       "_view_module": "@jupyter-widgets/base",
       "_view_module_version": "1.2.0",
       "_view_name": "StyleView",
       "description_width": ""
      }
     },
     "c27229d85fd341809bbf42da0e918826": {
      "model_module": "@jupyter-widgets/controls",
      "model_module_version": "1.5.0",
      "model_name": "DescriptionStyleModel",
      "state": {
       "_model_module": "@jupyter-widgets/controls",
       "_model_module_version": "1.5.0",
       "_model_name": "DescriptionStyleModel",
       "_view_count": null,
       "_view_module": "@jupyter-widgets/base",
       "_view_module_version": "1.2.0",
       "_view_name": "StyleView",
       "description_width": ""
      }
     },
     "c2c36bddc12c410fa7bed1ed1f4d8db5": {
      "model_module": "@jupyter-widgets/controls",
      "model_module_version": "1.5.0",
      "model_name": "HTMLModel",
      "state": {
       "_dom_classes": [],
       "_model_module": "@jupyter-widgets/controls",
       "_model_module_version": "1.5.0",
       "_model_name": "HTMLModel",
       "_view_count": null,
       "_view_module": "@jupyter-widgets/controls",
       "_view_module_version": "1.5.0",
       "_view_name": "HTMLView",
       "description": "",
       "description_tooltip": null,
       "layout": "IPY_MODEL_80eec79cc90c406fa980698751d4cf17",
       "placeholder": "​",
       "style": "IPY_MODEL_71ef7658351049adb9efaadc5352ecad",
       "value": "Downloading: 100%"
      }
     },
     "cd5e7bd66df24bd49bb775322ab3fe0b": {
      "model_module": "@jupyter-widgets/controls",
      "model_module_version": "1.5.0",
      "model_name": "DescriptionStyleModel",
      "state": {
       "_model_module": "@jupyter-widgets/controls",
       "_model_module_version": "1.5.0",
       "_model_name": "DescriptionStyleModel",
       "_view_count": null,
       "_view_module": "@jupyter-widgets/base",
       "_view_module_version": "1.2.0",
       "_view_name": "StyleView",
       "description_width": ""
      }
     },
     "cf67271de39d4958979a7c147d0f989d": {
      "model_module": "@jupyter-widgets/controls",
      "model_module_version": "1.5.0",
      "model_name": "FloatProgressModel",
      "state": {
       "_dom_classes": [],
       "_model_module": "@jupyter-widgets/controls",
       "_model_module_version": "1.5.0",
       "_model_name": "FloatProgressModel",
       "_view_count": null,
       "_view_module": "@jupyter-widgets/controls",
       "_view_module_version": "1.5.0",
       "_view_name": "ProgressView",
       "bar_style": "success",
       "description": "",
       "description_tooltip": null,
       "layout": "IPY_MODEL_d4b15d907efc4ebba71f0dd6a6768ad0",
       "max": 570,
       "min": 0,
       "orientation": "horizontal",
       "style": "IPY_MODEL_413f48d6010d41749a7bda7d81a6a7f2",
       "value": 570
      }
     },
     "d472044d11af48efa87c6d19fda83521": {
      "model_module": "@jupyter-widgets/controls",
      "model_module_version": "1.5.0",
      "model_name": "HTMLModel",
      "state": {
       "_dom_classes": [],
       "_model_module": "@jupyter-widgets/controls",
       "_model_module_version": "1.5.0",
       "_model_name": "HTMLModel",
       "_view_count": null,
       "_view_module": "@jupyter-widgets/controls",
       "_view_module_version": "1.5.0",
       "_view_name": "HTMLView",
       "description": "",
       "description_tooltip": null,
       "layout": "IPY_MODEL_e8e85bb7f94d48e6b1d1301a0e2df355",
       "placeholder": "​",
       "style": "IPY_MODEL_cd5e7bd66df24bd49bb775322ab3fe0b",
       "value": " 28.0/28.0 [00:00&lt;00:00, 1.12kB/s]"
      }
     },
     "d4b15d907efc4ebba71f0dd6a6768ad0": {
      "model_module": "@jupyter-widgets/base",
      "model_module_version": "1.2.0",
      "model_name": "LayoutModel",
      "state": {
       "_model_module": "@jupyter-widgets/base",
       "_model_module_version": "1.2.0",
       "_model_name": "LayoutModel",
       "_view_count": null,
       "_view_module": "@jupyter-widgets/base",
       "_view_module_version": "1.2.0",
       "_view_name": "LayoutView",
       "align_content": null,
       "align_items": null,
       "align_self": null,
       "border": null,
       "bottom": null,
       "display": null,
       "flex": null,
       "flex_flow": null,
       "grid_area": null,
       "grid_auto_columns": null,
       "grid_auto_flow": null,
       "grid_auto_rows": null,
       "grid_column": null,
       "grid_gap": null,
       "grid_row": null,
       "grid_template_areas": null,
       "grid_template_columns": null,
       "grid_template_rows": null,
       "height": null,
       "justify_content": null,
       "justify_items": null,
       "left": null,
       "margin": null,
       "max_height": null,
       "max_width": null,
       "min_height": null,
       "min_width": null,
       "object_fit": null,
       "object_position": null,
       "order": null,
       "overflow": null,
       "overflow_x": null,
       "overflow_y": null,
       "padding": null,
       "right": null,
       "top": null,
       "visibility": null,
       "width": null
      }
     },
     "d9161eb9943b45f0981cdabd6b9bc3d6": {
      "model_module": "@jupyter-widgets/controls",
      "model_module_version": "1.5.0",
      "model_name": "HTMLModel",
      "state": {
       "_dom_classes": [],
       "_model_module": "@jupyter-widgets/controls",
       "_model_module_version": "1.5.0",
       "_model_name": "HTMLModel",
       "_view_count": null,
       "_view_module": "@jupyter-widgets/controls",
       "_view_module_version": "1.5.0",
       "_view_name": "HTMLView",
       "description": "",
       "description_tooltip": null,
       "layout": "IPY_MODEL_bfe23f64849d4326b3eca39b777507a1",
       "placeholder": "​",
       "style": "IPY_MODEL_c0d34e7ff59c41758c952c6d4fc3988f",
       "value": "Downloading: 100%"
      }
     },
     "e8e85bb7f94d48e6b1d1301a0e2df355": {
      "model_module": "@jupyter-widgets/base",
      "model_module_version": "1.2.0",
      "model_name": "LayoutModel",
      "state": {
       "_model_module": "@jupyter-widgets/base",
       "_model_module_version": "1.2.0",
       "_model_name": "LayoutModel",
       "_view_count": null,
       "_view_module": "@jupyter-widgets/base",
       "_view_module_version": "1.2.0",
       "_view_name": "LayoutView",
       "align_content": null,
       "align_items": null,
       "align_self": null,
       "border": null,
       "bottom": null,
       "display": null,
       "flex": null,
       "flex_flow": null,
       "grid_area": null,
       "grid_auto_columns": null,
       "grid_auto_flow": null,
       "grid_auto_rows": null,
       "grid_column": null,
       "grid_gap": null,
       "grid_row": null,
       "grid_template_areas": null,
       "grid_template_columns": null,
       "grid_template_rows": null,
       "height": null,
       "justify_content": null,
       "justify_items": null,
       "left": null,
       "margin": null,
       "max_height": null,
       "max_width": null,
       "min_height": null,
       "min_width": null,
       "object_fit": null,
       "object_position": null,
       "order": null,
       "overflow": null,
       "overflow_x": null,
       "overflow_y": null,
       "padding": null,
       "right": null,
       "top": null,
       "visibility": null,
       "width": null
      }
     },
     "e9a018ba63764e0e85cf3e01bc7e978e": {
      "model_module": "@jupyter-widgets/controls",
      "model_module_version": "1.5.0",
      "model_name": "FloatProgressModel",
      "state": {
       "_dom_classes": [],
       "_model_module": "@jupyter-widgets/controls",
       "_model_module_version": "1.5.0",
       "_model_name": "FloatProgressModel",
       "_view_count": null,
       "_view_module": "@jupyter-widgets/controls",
       "_view_module_version": "1.5.0",
       "_view_name": "ProgressView",
       "bar_style": "success",
       "description": "",
       "description_tooltip": null,
       "layout": "IPY_MODEL_06c925b1d16f41469b4f91c89bb0af58",
       "max": 231508,
       "min": 0,
       "orientation": "horizontal",
       "style": "IPY_MODEL_f6408e7db5974992a75a83a47498875c",
       "value": 231508
      }
     },
     "ebdf3eece46e4946a43483732f07b518": {
      "model_module": "@jupyter-widgets/controls",
      "model_module_version": "1.5.0",
      "model_name": "HBoxModel",
      "state": {
       "_dom_classes": [],
       "_model_module": "@jupyter-widgets/controls",
       "_model_module_version": "1.5.0",
       "_model_name": "HBoxModel",
       "_view_count": null,
       "_view_module": "@jupyter-widgets/controls",
       "_view_module_version": "1.5.0",
       "_view_name": "HBoxView",
       "box_style": "",
       "children": [
        "IPY_MODEL_d9161eb9943b45f0981cdabd6b9bc3d6",
        "IPY_MODEL_e9a018ba63764e0e85cf3e01bc7e978e",
        "IPY_MODEL_0410856cd7da4b67a1bc4fd639f29416"
       ],
       "layout": "IPY_MODEL_2946535b232c47858c85c902a6b85081"
      }
     },
     "f6408e7db5974992a75a83a47498875c": {
      "model_module": "@jupyter-widgets/controls",
      "model_module_version": "1.5.0",
      "model_name": "ProgressStyleModel",
      "state": {
       "_model_module": "@jupyter-widgets/controls",
       "_model_module_version": "1.5.0",
       "_model_name": "ProgressStyleModel",
       "_view_count": null,
       "_view_module": "@jupyter-widgets/base",
       "_view_module_version": "1.2.0",
       "_view_name": "StyleView",
       "bar_color": null,
       "description_width": ""
      }
     },
     "fbc8d9ef566c4fddb51627c05e44ced3": {
      "model_module": "@jupyter-widgets/base",
      "model_module_version": "1.2.0",
      "model_name": "LayoutModel",
      "state": {
       "_model_module": "@jupyter-widgets/base",
       "_model_module_version": "1.2.0",
       "_model_name": "LayoutModel",
       "_view_count": null,
       "_view_module": "@jupyter-widgets/base",
       "_view_module_version": "1.2.0",
       "_view_name": "LayoutView",
       "align_content": null,
       "align_items": null,
       "align_self": null,
       "border": null,
       "bottom": null,
       "display": null,
       "flex": null,
       "flex_flow": null,
       "grid_area": null,
       "grid_auto_columns": null,
       "grid_auto_flow": null,
       "grid_auto_rows": null,
       "grid_column": null,
       "grid_gap": null,
       "grid_row": null,
       "grid_template_areas": null,
       "grid_template_columns": null,
       "grid_template_rows": null,
       "height": null,
       "justify_content": null,
       "justify_items": null,
       "left": null,
       "margin": null,
       "max_height": null,
       "max_width": null,
       "min_height": null,
       "min_width": null,
       "object_fit": null,
       "object_position": null,
       "order": null,
       "overflow": null,
       "overflow_x": null,
       "overflow_y": null,
       "padding": null,
       "right": null,
       "top": null,
       "visibility": null,
       "width": null
      }
     },
     "ff8aa7e4ba7747cb88b8810092029a86": {
      "model_module": "@jupyter-widgets/controls",
      "model_module_version": "1.5.0",
      "model_name": "HTMLModel",
      "state": {
       "_dom_classes": [],
       "_model_module": "@jupyter-widgets/controls",
       "_model_module_version": "1.5.0",
       "_model_name": "HTMLModel",
       "_view_count": null,
       "_view_module": "@jupyter-widgets/controls",
       "_view_module_version": "1.5.0",
       "_view_name": "HTMLView",
       "description": "",
       "description_tooltip": null,
       "layout": "IPY_MODEL_04083143963d4bad93b9f8d73e661d0b",
       "placeholder": "​",
       "style": "IPY_MODEL_c27229d85fd341809bbf42da0e918826",
       "value": " 455k/455k [00:00&lt;00:00, 814kB/s]"
      }
     },
     "ff903cd28d6c4394954a16e8be362dd5": {
      "model_module": "@jupyter-widgets/base",
      "model_module_version": "1.2.0",
      "model_name": "LayoutModel",
      "state": {
       "_model_module": "@jupyter-widgets/base",
       "_model_module_version": "1.2.0",
       "_model_name": "LayoutModel",
       "_view_count": null,
       "_view_module": "@jupyter-widgets/base",
       "_view_module_version": "1.2.0",
       "_view_name": "LayoutView",
       "align_content": null,
       "align_items": null,
       "align_self": null,
       "border": null,
       "bottom": null,
       "display": null,
       "flex": null,
       "flex_flow": null,
       "grid_area": null,
       "grid_auto_columns": null,
       "grid_auto_flow": null,
       "grid_auto_rows": null,
       "grid_column": null,
       "grid_gap": null,
       "grid_row": null,
       "grid_template_areas": null,
       "grid_template_columns": null,
       "grid_template_rows": null,
       "height": null,
       "justify_content": null,
       "justify_items": null,
       "left": null,
       "margin": null,
       "max_height": null,
       "max_width": null,
       "min_height": null,
       "min_width": null,
       "object_fit": null,
       "object_position": null,
       "order": null,
       "overflow": null,
       "overflow_x": null,
       "overflow_y": null,
       "padding": null,
       "right": null,
       "top": null,
       "visibility": null,
       "width": null
      }
     },
     "fff69e54e2b34c1198c00af601eb0c3a": {
      "model_module": "@jupyter-widgets/controls",
      "model_module_version": "1.5.0",
      "model_name": "HBoxModel",
      "state": {
       "_dom_classes": [],
       "_model_module": "@jupyter-widgets/controls",
       "_model_module_version": "1.5.0",
       "_model_name": "HBoxModel",
       "_view_count": null,
       "_view_module": "@jupyter-widgets/controls",
       "_view_module_version": "1.5.0",
       "_view_name": "HBoxView",
       "box_style": "",
       "children": [
        "IPY_MODEL_570e63227df547908c2de520797064a2",
        "IPY_MODEL_4e58049ab09b498f8c922f91fa6a1870",
        "IPY_MODEL_57b55ca062624fd8a656a119af45669c"
       ],
       "layout": "IPY_MODEL_b152aa5d4f334501b54dc5814df051a8"
      }
     }
    },
    "version_major": 2,
    "version_minor": 0
   }
  }
 },
 "nbformat": 4,
 "nbformat_minor": 5
}
